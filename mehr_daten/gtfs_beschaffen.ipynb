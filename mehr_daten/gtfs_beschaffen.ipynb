{
 "cells": [
  {
   "cell_type": "markdown",
   "metadata": {},
   "source": [
    "mehr GTFS Daten beschaffen"
   ]
  },
  {
   "cell_type": "code",
   "execution_count": 27,
   "metadata": {},
   "outputs": [
    {
     "name": "stdout",
     "output_type": "stream",
     "text": [
      "Requirement already satisfied: tqdm in e:\\tsa\\datascience2\\venv\\lib\\site-packages (4.64.1)\n",
      "Requirement already satisfied: colorama in e:\\tsa\\datascience2\\venv\\lib\\site-packages (from tqdm) (0.4.5)\n",
      "Note: you may need to restart the kernel to use updated packages.\n"
     ]
    },
    {
     "name": "stderr",
     "output_type": "stream",
     "text": [
      "WARNING: You are using pip version 22.0.4; however, version 22.2.2 is available.\n",
      "You should consider upgrading via the 'e:\\TSA\\Datascience2\\venv\\Scripts\\python.exe -m pip install --upgrade pip' command.\n"
     ]
    }
   ],
   "source": [
    "%pip install tqdm"
   ]
  },
  {
   "cell_type": "code",
   "execution_count": 2,
   "metadata": {},
   "outputs": [
    {
     "name": "stdout",
     "output_type": "stream",
     "text": [
      "569\n"
     ]
    }
   ],
   "source": [
    "import csv\n",
    "\n",
    "\n",
    "\n",
    "\n",
    "# open file\n",
    "with open('sources.csv', newline='', encoding = \"utf-8\") as f:\n",
    "    reader = csv.reader(f)\n",
    "    data_file = list(reader)\n",
    "    data_file.pop(0)\n",
    "\n",
    "cleaned_list = []\n",
    "for row in data_file:\n",
    "\n",
    "    format = row[1]\n",
    "    link = row[10]\n",
    "\n",
    "    # for file naming later\n",
    "    country = row[3]\n",
    "    state = row[4]\n",
    "    area = row[5]\n",
    "\n",
    "    if len(state) == 0 or len(area) == 0: continue\n",
    "\n",
    "\n",
    "    if len(link)==0: link = row[11] # if first link is not there take the second one thats provided\n",
    "    if len(link)==0: continue # if it doenst exist either skip\n",
    "    if link[-4:] != \".zip\": continue # only take files in the .zip format\n",
    "\n",
    "    if format !=  \"gtfs\": continue # skip if wrong format\n",
    "    if country != \"US\": continue # skip if wrong country\n",
    "\n",
    "    res = [link, country, state, area]\n",
    "    cleaned_list.append(res)\n",
    "print(len(cleaned_list))\n",
    "    \n"
   ]
  },
  {
   "cell_type": "code",
   "execution_count": null,
   "metadata": {},
   "outputs": [],
   "source": [
    "import requests as r\n",
    "from tqdm import tqdm\n",
    "\n",
    "# könnte man multithreaden, muss aber nur einmal laufen\n",
    "\n",
    "for row in tqdm(cleaned_list):\n",
    "\n",
    "    url = row[0]\n",
    "    filename = row[1] + \" \" + row[2] +\" \" + row[3] + \".zip\"\n",
    "    filename = filename.replace(\" \", \"_\") # repalce whitespaces\n",
    "    try:\n",
    "        response = r.get(url, timeout=5) # get file\n",
    "        open(\"all_zips/\" + filename, \"wb\").write(response.content) # save zip\n",
    "    except Exception as e:\n",
    "        print(e)"
   ]
  },
  {
   "cell_type": "code",
   "execution_count": 15,
   "metadata": {},
   "outputs": [
    {
     "name": "stdout",
     "output_type": "stream",
     "text": [
      "['all_zips\\\\US_Alabama_Birmingham', 'all_zips\\\\US_Alabama_Huntsville', 'all_zips\\\\US_Alabama_Montgomery', 'all_zips\\\\US_Alaska_Anchorage', 'all_zips\\\\US_Alaska_Juneau', 'all_zips\\\\US_Alaska_Ketchikan', 'all_zips\\\\US_Alaska_Klawock_', 'all_zips\\\\US_Arizona_Benson', 'all_zips\\\\US_Arizona_Bullhead_City', 'all_zips\\\\US_Arizona_Cottonwood', 'all_zips\\\\US_Arizona_Phoenix', 'all_zips\\\\US_Arizona_Sedona', 'all_zips\\\\US_Arizona_Sierra_Vista', 'all_zips\\\\US_Arizona_Tucson', 'all_zips\\\\US_Arizona_Yuma', 'all_zips\\\\US_California_Alhambra', 'all_zips\\\\US_California_Anaheim', 'all_zips\\\\US_California_Arcadia', 'all_zips\\\\US_California_Arcata', 'all_zips\\\\US_California_Arvin', 'all_zips\\\\US_California_Auburn', 'all_zips\\\\US_California_Bakersfield', 'all_zips\\\\US_California_Baldwin_Park', 'all_zips\\\\US_California_Banning', 'all_zips\\\\US_California_Beaumont', 'all_zips\\\\US_California_Bellflower', 'all_zips\\\\US_California_Bell_Gardens', 'all_zips\\\\US_California_Berkeley', 'all_zips\\\\US_California_Big_Bear', 'all_zips\\\\US_California_Bishop', 'all_zips\\\\US_California_Camarillo', 'all_zips\\\\US_California_Carson', 'all_zips\\\\US_California_Chico', 'all_zips\\\\US_California_Clovis', 'all_zips\\\\US_California_Compton', 'all_zips\\\\US_California_Corona', 'all_zips\\\\US_California_Crescent_City', 'all_zips\\\\US_California_Cudahy', 'all_zips\\\\US_California_Culver_City', 'all_zips\\\\US_California_Davis', 'all_zips\\\\US_California_Delano', 'all_zips\\\\US_California_Dixon', 'all_zips\\\\US_California_Duarte', 'all_zips\\\\US_California_El_Monte', 'all_zips\\\\US_California_El_Segundo', 'all_zips\\\\US_California_Emeryville', 'all_zips\\\\US_California_Escalon', 'all_zips\\\\US_California_Fairfield', 'all_zips\\\\US_California_Fresno', 'all_zips\\\\US_California_Gardena', 'all_zips\\\\US_California_Hanford', 'all_zips\\\\US_California_Hesperia', 'all_zips\\\\US_California_Hollister', 'all_zips\\\\US_California_Huntington_Park', 'all_zips\\\\US_California_Jackson', 'all_zips\\\\US_California_Laguna_Beach', 'all_zips\\\\US_California_Lancaster', 'all_zips\\\\US_California_Lawndale', 'all_zips\\\\US_California_La_Puente', 'all_zips\\\\US_California_Livermore', 'all_zips\\\\US_California_Long_Beach', 'all_zips\\\\US_California_Los_Angeles', 'all_zips\\\\US_California_Madera', 'all_zips\\\\US_California_Merced', 'all_zips\\\\US_California_Modesto', 'all_zips\\\\US_California_Modoc_County', 'all_zips\\\\US_California_Monrovia', 'all_zips\\\\US_California_Montebello', 'all_zips\\\\US_California_Monterey', 'all_zips\\\\US_California_Monterey_Park', 'all_zips\\\\US_California_Moorpark', 'all_zips\\\\US_California_Morro_Bay', 'all_zips\\\\US_California_Mountain_View', 'all_zips\\\\US_California_Napa', 'all_zips\\\\US_California_Needles', 'all_zips\\\\US_California_Nevada_County', 'all_zips\\\\US_California_Oakland', 'all_zips\\\\US_California_Oxnard', 'all_zips\\\\US_California_Palm_Springs', 'all_zips\\\\US_California_Petaluma', 'all_zips\\\\US_California_Pinole', 'all_zips\\\\US_California_Redding', 'all_zips\\\\US_California_Red_Bluff', 'all_zips\\\\US_California_Ridgecrest', 'all_zips\\\\US_California_Rio_Vista', 'all_zips\\\\US_California_Ripon', 'all_zips\\\\US_California_Riverside', 'all_zips\\\\US_California_Rosemead', 'all_zips\\\\US_California_Sacramento', 'all_zips\\\\US_California_Sacremento', 'all_zips\\\\US_California_Santa_Barbara', 'all_zips\\\\US_California_Santa_Maria', 'all_zips\\\\US_California_Santa_Monica', 'all_zips\\\\US_California_Santa_Rosa', 'all_zips\\\\US_California_San_Andreas', 'all_zips\\\\US_California_San_Bernardino', 'all_zips\\\\US_California_San_Diego', 'all_zips\\\\US_California_San_Francisco', 'all_zips\\\\US_California_San_Jose', 'all_zips\\\\US_California_San_Leandro', 'all_zips\\\\US_California_San_Luis_Obispo', 'all_zips\\\\US_California_San_Mateo', 'all_zips\\\\US_California_Sierra_Madre', 'all_zips\\\\US_California_Simi_Valley', 'all_zips\\\\US_California_Solvang', 'all_zips\\\\US_California_Stanford', 'all_zips\\\\US_California_Stockton', 'all_zips\\\\US_California_Susanville', 'all_zips\\\\US_California_Taft', 'all_zips\\\\US_California_Tahoe_City', 'all_zips\\\\US_California_Thousand_Oaks', 'all_zips\\\\US_California_Thousand_Palms', 'all_zips\\\\US_California_Tracy', 'all_zips\\\\US_California_Tulare', 'all_zips\\\\US_California_Turlock', 'all_zips\\\\US_California_Ukiah', 'all_zips\\\\US_California_Vacaville', 'all_zips\\\\US_California_Wasco', 'all_zips\\\\US_California_Yreka', 'all_zips\\\\US_California_Yuba_City', 'all_zips\\\\US_Colorado_Aspen', 'all_zips\\\\US_Colorado_Avon', 'all_zips\\\\US_Colorado_Boulder', 'all_zips\\\\US_Colorado_Breckenridge', 'all_zips\\\\US_Colorado_Broomfield', 'all_zips\\\\US_Colorado_Colorado_Springs', 'all_zips\\\\US_Colorado_Crested_Butte', 'all_zips\\\\US_Colorado_Cripple_Creek', 'all_zips\\\\US_Colorado_Denver', 'all_zips\\\\US_Colorado_Eagle_County', 'all_zips\\\\US_Colorado_Estes_Park', 'all_zips\\\\US_Colorado_Fort_Collins', 'all_zips\\\\US_Colorado_Georgetown', 'all_zips\\\\US_Colorado_Ignacio', 'all_zips\\\\US_Colorado_Las_Animas', 'all_zips\\\\US_Colorado_Montrose', 'all_zips\\\\US_Colorado_Pueblo', 'all_zips\\\\US_Colorado_Snowmass_Village', 'all_zips\\\\US_Colorado_Telluride', 'all_zips\\\\US_Colorado_Town_of_Mountain_Village', 'all_zips\\\\US_Colorado_Vail', 'all_zips\\\\US_Colorado_Winter_Park', 'all_zips\\\\US_Connecticut_Bridgeport', 'all_zips\\\\US_Connecticut_Centerbrook', 'all_zips\\\\US_Connecticut_Preston', 'all_zips\\\\US_Connecticut_Stamford', 'all_zips\\\\US_District_of_Columbia_Kent', 'all_zips\\\\US_District_of_Columbia_Washington', 'all_zips\\\\US_Florida_Brooksville', 'all_zips\\\\US_Florida_Crestview', 'all_zips\\\\US_Florida_Fort_Lauderdale', 'all_zips\\\\US_Florida_Fort_Myers', 'all_zips\\\\US_Florida_Key_West', 'all_zips\\\\US_Florida_Ocala', 'all_zips\\\\US_Florida_Palm_Beach', 'all_zips\\\\US_Florida_Panama_City', 'all_zips\\\\US_Florida_Pensacola', 'all_zips\\\\US_Florida_Pinellas', 'all_zips\\\\US_Florida_Pompano_Beach', 'all_zips\\\\US_Florida_Saint_Augustine', 'all_zips\\\\US_Florida_Sarasota', 'all_zips\\\\US_Florida_Spring_Hill', 'all_zips\\\\US_Florida_Tallahassee', 'all_zips\\\\US_Florida_Tampa', 'all_zips\\\\US_Georgia_Atlanta', 'all_zips\\\\US_Georgia_Marietta', 'all_zips\\\\US_Georgia_Savannah', \"all_zips\\\\US_Hawaii_Hawai'i_Island\", 'all_zips\\\\US_Hawaii_Honolulu', 'all_zips\\\\US_Idaho_Boise', 'all_zips\\\\US_Idaho_Ketchum', 'all_zips\\\\US_Illinois_Chicago', 'all_zips\\\\US_Illinois_DeKalb', 'all_zips\\\\US_Illinois_Peoria', 'all_zips\\\\US_Illinois_Rock_Island', 'all_zips\\\\US_Illinois_Springfield', 'all_zips\\\\US_Illinois_Urbana', 'all_zips\\\\US_Indiana_Bloomington', 'all_zips\\\\US_Indiana_Gary', 'all_zips\\\\US_Indiana_Indianapolis', 'all_zips\\\\US_Indiana_Lafayette', 'all_zips\\\\US_Indiana_Muncie', 'all_zips\\\\US_Indiana_South_Bend', 'all_zips\\\\US_Indiana_Terre_Haute', 'all_zips\\\\US_Iowa_Ames', 'all_zips\\\\US_Iowa_Bettendorf', 'all_zips\\\\US_Iowa_Burlington', 'all_zips\\\\US_Iowa_Cedar_Rapids', 'all_zips\\\\US_Iowa_Clinton', 'all_zips\\\\US_Iowa_Coralville', 'all_zips\\\\US_Iowa_Dubuque', 'all_zips\\\\US_Iowa_Fort_Dodge', 'all_zips\\\\US_Iowa_Iowa_City', 'all_zips\\\\US_Iowa_Marshalltown', 'all_zips\\\\US_Iowa_Mason_City', 'all_zips\\\\US_Iowa_Muscatine', 'all_zips\\\\US_Iowa_Ottumwa', 'all_zips\\\\US_Iowa_Sioux_City', 'all_zips\\\\US_Iowa_Waterloo', 'all_zips\\\\US_Kansas_Lawrence', 'all_zips\\\\US_Kentucky_Fort_Wright', 'all_zips\\\\US_Kentucky_Lexington', 'all_zips\\\\US_Kentucky_Louisville', 'all_zips\\\\US_Louisiana_Baton_Rouge', 'all_zips\\\\US_Maine_Casco_Bay', 'all_zips\\\\US_Maine_Portland', 'all_zips\\\\US_Maryland_Aberdeen', 'all_zips\\\\US_Maryland_Allegany', 'all_zips\\\\US_Maryland_Annapolis', 'all_zips\\\\US_Maryland_Baltimore', 'all_zips\\\\US_Maryland_Bethesda', 'all_zips\\\\US_Maryland_Montgomery', 'all_zips\\\\US_Maryland_Ocean_City', 'all_zips\\\\US_Maryland_Salisbury', 'all_zips\\\\US_Maryland_St._Charles', 'all_zips\\\\US_Maryland_Towson', 'all_zips\\\\US_Massachusetts_Attleboro', 'all_zips\\\\US_Massachusetts_Berkshire', 'all_zips\\\\US_Massachusetts_Billerica', 'all_zips\\\\US_Massachusetts_Boston', 'all_zips\\\\US_Massachusetts_Brockton', 'all_zips\\\\US_Massachusetts_Cape_Cod', 'all_zips\\\\US_Massachusetts_Franklin', 'all_zips\\\\US_Massachusetts_Lowell', 'all_zips\\\\US_Massachusetts_Nantucket', 'all_zips\\\\US_Massachusetts_New_Bedford', 'all_zips\\\\US_Massachusetts_Worcester', 'all_zips\\\\US_Michigan_Ann_Arbor', 'all_zips\\\\US_Michigan_Detroit', 'all_zips\\\\US_Michigan_Flint', 'all_zips\\\\US_Michigan_Traverse_City', 'all_zips\\\\US_Minnesota_Duluth', 'all_zips\\\\US_Minnesota_Minneapolis', 'all_zips\\\\US_Mississippi_Jackson', 'all_zips\\\\US_Missouri_Kansas_City', 'all_zips\\\\US_Missouri_St._Louis', 'all_zips\\\\US_Montana_Bozeman', 'all_zips\\\\US_Montana_Butte', 'all_zips\\\\US_Montana_Helena', 'all_zips\\\\US_Montana_Missoula', 'all_zips\\\\US_Nebraska_Omaha', 'all_zips\\\\US_Nevada_Carson_City', 'all_zips\\\\US_Nevada_Las_Vegas', 'all_zips\\\\US_New_Jersey_Jersey_City', 'all_zips\\\\US_New_Mexico_Albuquerque', 'all_zips\\\\US_New_Mexico_Farmington', 'all_zips\\\\US_New_Mexico_Gallup', 'all_zips\\\\US_New_Mexico_Las_Cruces', 'all_zips\\\\US_New_Mexico_Santa_Fe', 'all_zips\\\\US_New_York_Albany', 'all_zips\\\\US_New_York_Binghamton', 'all_zips\\\\US_New_York_Buffalo', 'all_zips\\\\US_New_York_Canton', 'all_zips\\\\US_New_York_Clarkstown', 'all_zips\\\\US_New_York_Cooperstown', 'all_zips\\\\US_New_York_Elmira', 'all_zips\\\\US_New_York_Huntington', 'all_zips\\\\US_New_York_Ithaca', 'all_zips\\\\US_New_York_Jamestown', 'all_zips\\\\US_New_York_Long_Beach', 'all_zips\\\\US_New_York_Long_Island', 'all_zips\\\\US_New_York_Lowville', 'all_zips\\\\US_New_York_Mechanicville', 'all_zips\\\\US_New_York_Nassau', 'all_zips\\\\US_New_York_New_York_City', 'all_zips\\\\US_New_York_North_Malone', 'all_zips\\\\US_New_York_Norwich', 'all_zips\\\\US_New_York_Olean', 'all_zips\\\\US_New_York_Otsego', 'all_zips\\\\US_New_York_Plattsburg', 'all_zips\\\\US_New_York_Plattsburgh', 'all_zips\\\\US_New_York_Poughkeepsie', 'all_zips\\\\US_New_York_Rochester', 'all_zips\\\\US_New_York_Saratoga_Springs', 'all_zips\\\\US_New_York_Schenectady', 'all_zips\\\\US_New_York_Utica', 'all_zips\\\\US_New_York_Watertown', 'all_zips\\\\US_New_York_White_Plains', 'all_zips\\\\US_New_York_Yates', 'all_zips\\\\US_North_Carolina_Asheville', 'all_zips\\\\US_North_Carolina_Cary', 'all_zips\\\\US_North_Carolina_Chapel_Hill', 'all_zips\\\\US_North_Carolina_Concord', 'all_zips\\\\US_North_Carolina_Durham', 'all_zips\\\\US_North_Carolina_Greensboro', 'all_zips\\\\US_North_Carolina_Raleigh', 'all_zips\\\\US_North_Carolina_Rocky_Mount', 'all_zips\\\\US_North_Carolina_Wilmington', 'all_zips\\\\US_Ohio_Akron', 'all_zips\\\\US_Ohio_Brecksville', 'all_zips\\\\US_Ohio_Canton', 'all_zips\\\\US_Ohio_Cincinnati', 'all_zips\\\\US_Ohio_Cleveland', 'all_zips\\\\US_Ohio_Columbus', 'all_zips\\\\US_Ohio_Dayton', 'all_zips\\\\US_Ohio_Hamilton', 'all_zips\\\\US_Ohio_Lima', 'all_zips\\\\US_Ohio_Youngstown', 'all_zips\\\\US_Oklahoma_Oklahoma_City', 'all_zips\\\\US_Oklahoma_Tulsa', 'all_zips\\\\US_Oregon_Albany', 'all_zips\\\\US_Oregon_Astoria', 'all_zips\\\\US_Oregon_Bend', 'all_zips\\\\US_Oregon_Brookings', 'all_zips\\\\US_Oregon_Burns', 'all_zips\\\\US_Oregon_Canby', 'all_zips\\\\US_Oregon_Coos_Bay', 'all_zips\\\\US_Oregon_Corvallis', 'all_zips\\\\US_Oregon_Cottage_Grove', 'all_zips\\\\US_Oregon_Eugene', 'all_zips\\\\US_Oregon_Florence', 'all_zips\\\\US_Oregon_Grants_Pass', 'all_zips\\\\US_Oregon_Hood_River', 'all_zips\\\\US_Oregon_Klamath_Falls', 'all_zips\\\\US_Oregon_Medford', 'all_zips\\\\US_Oregon_Milton-Freewater', 'all_zips\\\\US_Oregon_Newport', 'all_zips\\\\US_Oregon_Oakridge', 'all_zips\\\\US_Oregon_Ontario', 'all_zips\\\\US_Oregon_Pendleton', 'all_zips\\\\US_Oregon_Portland', 'all_zips\\\\US_Oregon_Redmond', 'all_zips\\\\US_Oregon_Roseburg', 'all_zips\\\\US_Oregon_Salem', 'all_zips\\\\US_Oregon_Sandy', 'all_zips\\\\US_Oregon_Sweet_Home', 'all_zips\\\\US_Oregon_Tillamook', 'all_zips\\\\US_Oregon_Wallowa', 'all_zips\\\\US_Oregon_Wilsonville', 'all_zips\\\\US_Oregon_Woodburn', 'all_zips\\\\US_Oregon_Yamhill', 'all_zips\\\\US_Oregon__Molalla', 'all_zips\\\\US_Pennsylvania_Allentown', 'all_zips\\\\US_Pennsylvania_Berks_Area', 'all_zips\\\\US_Pennsylvania_Erie', 'all_zips\\\\US_Pennsylvania_Lancaster', 'all_zips\\\\US_Pennsylvania_Philadelphia', 'all_zips\\\\US_Pennsylvania_Pittsburgh', 'all_zips\\\\US_Pennsylvania_York', 'all_zips\\\\US_Rhode_Island_Newport', 'all_zips\\\\US_Rhode_Island_North_Kingstown', 'all_zips\\\\US_South_Carolina_Charleston', 'all_zips\\\\US_South_Carolina_Clemson', 'all_zips\\\\US_South_Carolina_Columbia', 'all_zips\\\\US_South_Dakota_Sioux_Falls', 'all_zips\\\\US_Tennessee_Chattanooga', 'all_zips\\\\US_Tennessee_Knoxville', 'all_zips\\\\US_Tennessee_Memphis', 'all_zips\\\\US_Tennessee_Nashville', 'all_zips\\\\US_Texas_Amarillo', 'all_zips\\\\US_Texas_Corpus_Christi', 'all_zips\\\\US_Texas_Dallas', 'all_zips\\\\US_Texas_Denton', 'all_zips\\\\US_Texas_El_Paso', 'all_zips\\\\US_Texas_Fort_Worth', 'all_zips\\\\US_Texas_Houston', 'all_zips\\\\US_Texas_Lubbock', 'all_zips\\\\US_Utah_Salt_Lake_City', 'all_zips\\\\US_Utah_St._George', 'all_zips\\\\US_Vermont_Bennington', 'all_zips\\\\US_Vermont_Burlington', 'all_zips\\\\US_Vermont_Hartford', 'all_zips\\\\US_Vermont_Orange_County', 'all_zips\\\\US_Vermont_Rockingham', 'all_zips\\\\US_Vermont_Rutland', 'all_zips\\\\US_Vermont_Wilmington', 'all_zips\\\\US_Virginia_Alexandria', 'all_zips\\\\US_Virginia_Altavista', 'all_zips\\\\US_Virginia_Arlington', 'all_zips\\\\US_Virginia_Blackstone', 'all_zips\\\\US_Virginia_Bluefield', 'all_zips\\\\US_Virginia_Bristol', 'all_zips\\\\US_Virginia_Fairfax', 'all_zips\\\\US_Virginia_Greensville', 'all_zips\\\\US_Virginia_Hampton', 'all_zips\\\\US_Virginia_Lynchburg', 'all_zips\\\\US_Virginia_Petersburg', 'all_zips\\\\US_Virginia_Pulaski', 'all_zips\\\\US_Virginia_Radford', 'all_zips\\\\US_Virginia_Redmond', 'all_zips\\\\US_Virginia_Roanoke', 'all_zips\\\\US_Virginia_Winchester', 'all_zips\\\\US_Virginia_Woodbridge', 'all_zips\\\\US_Washington_Aberdeen', 'all_zips\\\\US_Washington_Bellingham', 'all_zips\\\\US_Washington_Bremerton', 'all_zips\\\\US_Washington_Ellensburg', 'all_zips\\\\US_Washington_Everett', 'all_zips\\\\US_Washington_Longview', 'all_zips\\\\US_Washington_Olympia', 'all_zips\\\\US_Washington_Richland', 'all_zips\\\\US_Washington_Seattle', 'all_zips\\\\US_Washington_Selah', 'all_zips\\\\US_Washington_Snoqualmie', 'all_zips\\\\US_Washington_Vancouver', 'all_zips\\\\US_Washington_Washington', 'all_zips\\\\US_Washington_Wenatchee', 'all_zips\\\\US_Washington_Wenatchee_', 'all_zips\\\\US_Washington_Yakima', 'all_zips\\\\US_West_Virginia_Morgantown', 'all_zips\\\\US_Wisconsin_Green_Bay', 'all_zips\\\\US_Wisconsin_Janesville', 'all_zips\\\\US_Wisconsin_Madison', 'all_zips\\\\US_Wisconsin_Oshkosh', 'all_zips\\\\US_Wisconsin_Racine', 'all_zips\\\\US_Wisconsin_Sheboygan', 'all_zips\\\\US_Wisconsin_Waukesha', 'all_zips\\\\US_Wisconsin_Wausau']\n"
     ]
    }
   ],
   "source": [
    "import glob\n",
    "all_files = glob.glob(\"all_zips/*\")\n",
    "print(all_files)"
   ]
  },
  {
   "cell_type": "code",
   "execution_count": 17,
   "metadata": {},
   "outputs": [
    {
     "name": "stderr",
     "output_type": "stream",
     "text": [
      " 30%|██▉       | 121/408 [00:04<00:09, 29.58it/s]"
     ]
    },
    {
     "name": "stdout",
     "output_type": "stream",
     "text": [
      "File is not a zip file\n"
     ]
    },
    {
     "name": "stderr",
     "output_type": "stream",
     "text": [
      " 41%|████▏     | 169/408 [00:07<00:19, 12.10it/s]"
     ]
    },
    {
     "name": "stdout",
     "output_type": "stream",
     "text": [
      "File is not a zip file\n"
     ]
    },
    {
     "name": "stderr",
     "output_type": "stream",
     "text": [
      " 43%|████▎     | 174/408 [00:07<00:20, 11.61it/s]"
     ]
    },
    {
     "name": "stdout",
     "output_type": "stream",
     "text": [
      "File is not a zip file\n"
     ]
    },
    {
     "name": "stderr",
     "output_type": "stream",
     "text": [
      " 61%|██████▏   | 250/408 [00:11<00:06, 24.55it/s]"
     ]
    },
    {
     "name": "stdout",
     "output_type": "stream",
     "text": [
      "File is not a zip file\n",
      "File is not a zip file\n"
     ]
    },
    {
     "name": "stderr",
     "output_type": "stream",
     "text": [
      " 95%|█████████▌| 389/408 [00:17<00:00, 31.07it/s]"
     ]
    },
    {
     "name": "stdout",
     "output_type": "stream",
     "text": [
      "File is not a zip file\n"
     ]
    },
    {
     "name": "stderr",
     "output_type": "stream",
     "text": [
      " 96%|█████████▋| 393/408 [00:18<00:01, 13.71it/s]"
     ]
    },
    {
     "name": "stdout",
     "output_type": "stream",
     "text": [
      "File is not a zip file\n"
     ]
    },
    {
     "name": "stderr",
     "output_type": "stream",
     "text": [
      " 99%|█████████▊| 402/408 [00:19<00:00, 15.98it/s]"
     ]
    },
    {
     "name": "stdout",
     "output_type": "stream",
     "text": [
      "File is not a zip file\n"
     ]
    },
    {
     "name": "stderr",
     "output_type": "stream",
     "text": [
      "100%|██████████| 408/408 [00:19<00:00, 20.69it/s]\n"
     ]
    }
   ],
   "source": [
    "import glob\n",
    "import zipfile\n",
    "from tqdm import tqdm\n",
    "import os\n",
    "\n",
    "all_files = glob.glob(\"all_zips/*\")\n",
    "\n",
    "\n",
    "for file in tqdm(all_files):\n",
    "\n",
    "# some files are not zip files\n",
    "    try:    \n",
    "        with zipfile.ZipFile(file, 'r') as zip_ref:\n",
    "\n",
    "            filename = os.path.basename(file)\n",
    "            os.mkdir(\"all_gtfs/\" + filename)\n",
    "            zip_ref.extractall(\"all_gtfs/\" + filename)\n",
    "    except Exception as e:\n",
    "        print(e)"
   ]
  },
  {
   "cell_type": "code",
   "execution_count": null,
   "metadata": {},
   "outputs": [],
   "source": []
  }
 ],
 "metadata": {
  "kernelspec": {
   "display_name": "Python 3.9.12 ('venv': venv)",
   "language": "python",
   "name": "python3"
  },
  "language_info": {
   "codemirror_mode": {
    "name": "ipython",
    "version": 3
   },
   "file_extension": ".py",
   "mimetype": "text/x-python",
   "name": "python",
   "nbconvert_exporter": "python",
   "pygments_lexer": "ipython3",
   "version": "3.9.12"
  },
  "orig_nbformat": 4,
  "vscode": {
   "interpreter": {
    "hash": "56db51791f5af84c2c46b29c05e486f714d52add8b6bfdb4d473ae47122d1c76"
   }
  }
 },
 "nbformat": 4,
 "nbformat_minor": 2
}
