{
 "cells": [
  {
   "cell_type": "markdown",
   "metadata": {},
   "source": [
    "mehr GTFS Daten beschaffen"
   ]
  },
  {
   "cell_type": "code",
   "execution_count": 27,
   "metadata": {},
   "outputs": [
    {
     "name": "stdout",
     "output_type": "stream",
     "text": [
      "Requirement already satisfied: tqdm in e:\\tsa\\datascience2\\venv\\lib\\site-packages (4.64.1)\n",
      "Requirement already satisfied: colorama in e:\\tsa\\datascience2\\venv\\lib\\site-packages (from tqdm) (0.4.5)\n",
      "Note: you may need to restart the kernel to use updated packages.\n"
     ]
    },
    {
     "name": "stderr",
     "output_type": "stream",
     "text": [
      "WARNING: You are using pip version 22.0.4; however, version 22.2.2 is available.\n",
      "You should consider upgrading via the 'e:\\TSA\\Datascience2\\venv\\Scripts\\python.exe -m pip install --upgrade pip' command.\n"
     ]
    }
   ],
   "source": [
    "%pip install tqdm"
   ]
  },
  {
   "cell_type": "code",
   "execution_count": 2,
   "metadata": {},
   "outputs": [
    {
     "name": "stdout",
     "output_type": "stream",
     "text": [
      "569\n"
     ]
    }
   ],
   "source": [
    "import csv\n",
    "\n",
    "\n",
    "\n",
    "\n",
    "# open file\n",
    "with open('sources.csv', newline='', encoding = \"utf-8\") as f:\n",
    "    reader = csv.reader(f)\n",
    "    data_file = list(reader)\n",
    "    data_file.pop(0)\n",
    "\n",
    "cleaned_list = []\n",
    "for row in data_file:\n",
    "\n",
    "    format = row[1]\n",
    "    link = row[10]\n",
    "\n",
    "    # for file naming later\n",
    "    country = row[3]\n",
    "    state = row[4]\n",
    "    area = row[5]\n",
    "\n",
    "    if len(state) == 0 or len(area) == 0: continue\n",
    "\n",
    "\n",
    "    if len(link)==0: link = row[11] # if first link is not there take the second one thats provided\n",
    "    if len(link)==0: continue # if it doenst exist either skip\n",
    "    if link[-4:] != \".zip\": continue # only take files in the .zip format\n",
    "\n",
    "    if format !=  \"gtfs\": continue # skip if wrong format\n",
    "    if country != \"US\": continue # skip if wrong country\n",
    "\n",
    "    res = [link, country, state, area]\n",
    "    cleaned_list.append(res)\n",
    "print(len(cleaned_list))\n",
    "    \n"
   ]
  },
  {
   "cell_type": "code",
   "execution_count": 16,
   "metadata": {},
   "outputs": [
    {
     "name": "stderr",
     "output_type": "stream",
     "text": [
      "  0%|          | 2/569 [01:38<7:46:02, 49.32s/it]\n"
     ]
    },
    {
     "ename": "KeyboardInterrupt",
     "evalue": "",
     "output_type": "error",
     "traceback": [
      "\u001b[0;31m---------------------------------------------------------------------------\u001b[0m",
      "\u001b[0;31mKeyboardInterrupt\u001b[0m                         Traceback (most recent call last)",
      "Cell \u001b[0;32mIn [16], line 19\u001b[0m\n\u001b[1;32m     17\u001b[0m     \u001b[39mcontinue\u001b[39;00m\n\u001b[1;32m     18\u001b[0m \u001b[39mtry\u001b[39;00m:\n\u001b[0;32m---> 19\u001b[0m     response \u001b[39m=\u001b[39m r\u001b[39m.\u001b[39mget(url, timeout\u001b[39m=\u001b[39m\u001b[39m5\u001b[39m) \u001b[39m# get file\u001b[39;00m\n\u001b[1;32m     20\u001b[0m     \u001b[39mopen\u001b[39m(\u001b[39m\"\u001b[39m\u001b[39mall_zips/\u001b[39m\u001b[39m\"\u001b[39m \u001b[39m+\u001b[39m filename, \u001b[39m\"\u001b[39m\u001b[39mwb\u001b[39m\u001b[39m\"\u001b[39m)\u001b[39m.\u001b[39mwrite(response\u001b[39m.\u001b[39mcontent) \u001b[39m# save zip\u001b[39;00m\n\u001b[1;32m     21\u001b[0m \u001b[39mexcept\u001b[39;00m \u001b[39mException\u001b[39;00m \u001b[39mas\u001b[39;00m e:\n",
      "File \u001b[0;32m~/Library/Mobile Documents/com~apple~CloudDocs/Schule/3 Sonderunterricht/TSA/Datascience/Datascience2/venv/lib/python3.9/site-packages/requests/api.py:73\u001b[0m, in \u001b[0;36mget\u001b[0;34m(url, params, **kwargs)\u001b[0m\n\u001b[1;32m     62\u001b[0m \u001b[39mdef\u001b[39;00m \u001b[39mget\u001b[39m(url, params\u001b[39m=\u001b[39m\u001b[39mNone\u001b[39;00m, \u001b[39m*\u001b[39m\u001b[39m*\u001b[39mkwargs):\n\u001b[1;32m     63\u001b[0m     \u001b[39mr\u001b[39m\u001b[39m\"\"\"Sends a GET request.\u001b[39;00m\n\u001b[1;32m     64\u001b[0m \n\u001b[1;32m     65\u001b[0m \u001b[39m    :param url: URL for the new :class:`Request` object.\u001b[39;00m\n\u001b[0;32m   (...)\u001b[0m\n\u001b[1;32m     70\u001b[0m \u001b[39m    :rtype: requests.Response\u001b[39;00m\n\u001b[1;32m     71\u001b[0m \u001b[39m    \"\"\"\u001b[39;00m\n\u001b[0;32m---> 73\u001b[0m     \u001b[39mreturn\u001b[39;00m request(\u001b[39m\"\u001b[39;49m\u001b[39mget\u001b[39;49m\u001b[39m\"\u001b[39;49m, url, params\u001b[39m=\u001b[39;49mparams, \u001b[39m*\u001b[39;49m\u001b[39m*\u001b[39;49mkwargs)\n",
      "File \u001b[0;32m~/Library/Mobile Documents/com~apple~CloudDocs/Schule/3 Sonderunterricht/TSA/Datascience/Datascience2/venv/lib/python3.9/site-packages/requests/api.py:59\u001b[0m, in \u001b[0;36mrequest\u001b[0;34m(method, url, **kwargs)\u001b[0m\n\u001b[1;32m     55\u001b[0m \u001b[39m# By using the 'with' statement we are sure the session is closed, thus we\u001b[39;00m\n\u001b[1;32m     56\u001b[0m \u001b[39m# avoid leaving sockets open which can trigger a ResourceWarning in some\u001b[39;00m\n\u001b[1;32m     57\u001b[0m \u001b[39m# cases, and look like a memory leak in others.\u001b[39;00m\n\u001b[1;32m     58\u001b[0m \u001b[39mwith\u001b[39;00m sessions\u001b[39m.\u001b[39mSession() \u001b[39mas\u001b[39;00m session:\n\u001b[0;32m---> 59\u001b[0m     \u001b[39mreturn\u001b[39;00m session\u001b[39m.\u001b[39;49mrequest(method\u001b[39m=\u001b[39;49mmethod, url\u001b[39m=\u001b[39;49murl, \u001b[39m*\u001b[39;49m\u001b[39m*\u001b[39;49mkwargs)\n",
      "File \u001b[0;32m~/Library/Mobile Documents/com~apple~CloudDocs/Schule/3 Sonderunterricht/TSA/Datascience/Datascience2/venv/lib/python3.9/site-packages/requests/sessions.py:587\u001b[0m, in \u001b[0;36mSession.request\u001b[0;34m(self, method, url, params, data, headers, cookies, files, auth, timeout, allow_redirects, proxies, hooks, stream, verify, cert, json)\u001b[0m\n\u001b[1;32m    582\u001b[0m send_kwargs \u001b[39m=\u001b[39m {\n\u001b[1;32m    583\u001b[0m     \u001b[39m\"\u001b[39m\u001b[39mtimeout\u001b[39m\u001b[39m\"\u001b[39m: timeout,\n\u001b[1;32m    584\u001b[0m     \u001b[39m\"\u001b[39m\u001b[39mallow_redirects\u001b[39m\u001b[39m\"\u001b[39m: allow_redirects,\n\u001b[1;32m    585\u001b[0m }\n\u001b[1;32m    586\u001b[0m send_kwargs\u001b[39m.\u001b[39mupdate(settings)\n\u001b[0;32m--> 587\u001b[0m resp \u001b[39m=\u001b[39m \u001b[39mself\u001b[39;49m\u001b[39m.\u001b[39;49msend(prep, \u001b[39m*\u001b[39;49m\u001b[39m*\u001b[39;49msend_kwargs)\n\u001b[1;32m    589\u001b[0m \u001b[39mreturn\u001b[39;00m resp\n",
      "File \u001b[0;32m~/Library/Mobile Documents/com~apple~CloudDocs/Schule/3 Sonderunterricht/TSA/Datascience/Datascience2/venv/lib/python3.9/site-packages/requests/sessions.py:745\u001b[0m, in \u001b[0;36mSession.send\u001b[0;34m(self, request, **kwargs)\u001b[0m\n\u001b[1;32m    742\u001b[0m         \u001b[39mpass\u001b[39;00m\n\u001b[1;32m    744\u001b[0m \u001b[39mif\u001b[39;00m \u001b[39mnot\u001b[39;00m stream:\n\u001b[0;32m--> 745\u001b[0m     r\u001b[39m.\u001b[39;49mcontent\n\u001b[1;32m    747\u001b[0m \u001b[39mreturn\u001b[39;00m r\n",
      "File \u001b[0;32m~/Library/Mobile Documents/com~apple~CloudDocs/Schule/3 Sonderunterricht/TSA/Datascience/Datascience2/venv/lib/python3.9/site-packages/requests/models.py:899\u001b[0m, in \u001b[0;36mResponse.content\u001b[0;34m(self)\u001b[0m\n\u001b[1;32m    897\u001b[0m         \u001b[39mself\u001b[39m\u001b[39m.\u001b[39m_content \u001b[39m=\u001b[39m \u001b[39mNone\u001b[39;00m\n\u001b[1;32m    898\u001b[0m     \u001b[39melse\u001b[39;00m:\n\u001b[0;32m--> 899\u001b[0m         \u001b[39mself\u001b[39m\u001b[39m.\u001b[39m_content \u001b[39m=\u001b[39m \u001b[39mb\u001b[39;49m\u001b[39m\"\u001b[39;49m\u001b[39m\"\u001b[39;49m\u001b[39m.\u001b[39;49mjoin(\u001b[39mself\u001b[39;49m\u001b[39m.\u001b[39;49miter_content(CONTENT_CHUNK_SIZE)) \u001b[39mor\u001b[39;00m \u001b[39mb\u001b[39m\u001b[39m\"\u001b[39m\u001b[39m\"\u001b[39m\n\u001b[1;32m    901\u001b[0m \u001b[39mself\u001b[39m\u001b[39m.\u001b[39m_content_consumed \u001b[39m=\u001b[39m \u001b[39mTrue\u001b[39;00m\n\u001b[1;32m    902\u001b[0m \u001b[39m# don't need to release the connection; that's been handled by urllib3\u001b[39;00m\n\u001b[1;32m    903\u001b[0m \u001b[39m# since we exhausted the data.\u001b[39;00m\n",
      "File \u001b[0;32m~/Library/Mobile Documents/com~apple~CloudDocs/Schule/3 Sonderunterricht/TSA/Datascience/Datascience2/venv/lib/python3.9/site-packages/requests/models.py:816\u001b[0m, in \u001b[0;36mResponse.iter_content.<locals>.generate\u001b[0;34m()\u001b[0m\n\u001b[1;32m    814\u001b[0m \u001b[39mif\u001b[39;00m \u001b[39mhasattr\u001b[39m(\u001b[39mself\u001b[39m\u001b[39m.\u001b[39mraw, \u001b[39m\"\u001b[39m\u001b[39mstream\u001b[39m\u001b[39m\"\u001b[39m):\n\u001b[1;32m    815\u001b[0m     \u001b[39mtry\u001b[39;00m:\n\u001b[0;32m--> 816\u001b[0m         \u001b[39myield from\u001b[39;00m \u001b[39mself\u001b[39m\u001b[39m.\u001b[39mraw\u001b[39m.\u001b[39mstream(chunk_size, decode_content\u001b[39m=\u001b[39m\u001b[39mTrue\u001b[39;00m)\n\u001b[1;32m    817\u001b[0m     \u001b[39mexcept\u001b[39;00m ProtocolError \u001b[39mas\u001b[39;00m e:\n\u001b[1;32m    818\u001b[0m         \u001b[39mraise\u001b[39;00m ChunkedEncodingError(e)\n",
      "File \u001b[0;32m~/Library/Mobile Documents/com~apple~CloudDocs/Schule/3 Sonderunterricht/TSA/Datascience/Datascience2/venv/lib/python3.9/site-packages/urllib3/response.py:627\u001b[0m, in \u001b[0;36mHTTPResponse.stream\u001b[0;34m(self, amt, decode_content)\u001b[0m\n\u001b[1;32m    625\u001b[0m \u001b[39melse\u001b[39;00m:\n\u001b[1;32m    626\u001b[0m     \u001b[39mwhile\u001b[39;00m \u001b[39mnot\u001b[39;00m is_fp_closed(\u001b[39mself\u001b[39m\u001b[39m.\u001b[39m_fp):\n\u001b[0;32m--> 627\u001b[0m         data \u001b[39m=\u001b[39m \u001b[39mself\u001b[39;49m\u001b[39m.\u001b[39;49mread(amt\u001b[39m=\u001b[39;49mamt, decode_content\u001b[39m=\u001b[39;49mdecode_content)\n\u001b[1;32m    629\u001b[0m         \u001b[39mif\u001b[39;00m data:\n\u001b[1;32m    630\u001b[0m             \u001b[39myield\u001b[39;00m data\n",
      "File \u001b[0;32m~/Library/Mobile Documents/com~apple~CloudDocs/Schule/3 Sonderunterricht/TSA/Datascience/Datascience2/venv/lib/python3.9/site-packages/urllib3/response.py:566\u001b[0m, in \u001b[0;36mHTTPResponse.read\u001b[0;34m(self, amt, decode_content, cache_content)\u001b[0m\n\u001b[1;32m    563\u001b[0m fp_closed \u001b[39m=\u001b[39m \u001b[39mgetattr\u001b[39m(\u001b[39mself\u001b[39m\u001b[39m.\u001b[39m_fp, \u001b[39m\"\u001b[39m\u001b[39mclosed\u001b[39m\u001b[39m\"\u001b[39m, \u001b[39mFalse\u001b[39;00m)\n\u001b[1;32m    565\u001b[0m \u001b[39mwith\u001b[39;00m \u001b[39mself\u001b[39m\u001b[39m.\u001b[39m_error_catcher():\n\u001b[0;32m--> 566\u001b[0m     data \u001b[39m=\u001b[39m \u001b[39mself\u001b[39;49m\u001b[39m.\u001b[39;49m_fp_read(amt) \u001b[39mif\u001b[39;00m \u001b[39mnot\u001b[39;00m fp_closed \u001b[39melse\u001b[39;00m \u001b[39mb\u001b[39m\u001b[39m\"\u001b[39m\u001b[39m\"\u001b[39m\n\u001b[1;32m    567\u001b[0m     \u001b[39mif\u001b[39;00m amt \u001b[39mis\u001b[39;00m \u001b[39mNone\u001b[39;00m:\n\u001b[1;32m    568\u001b[0m         flush_decoder \u001b[39m=\u001b[39m \u001b[39mTrue\u001b[39;00m\n",
      "File \u001b[0;32m~/Library/Mobile Documents/com~apple~CloudDocs/Schule/3 Sonderunterricht/TSA/Datascience/Datascience2/venv/lib/python3.9/site-packages/urllib3/response.py:532\u001b[0m, in \u001b[0;36mHTTPResponse._fp_read\u001b[0;34m(self, amt)\u001b[0m\n\u001b[1;32m    529\u001b[0m     \u001b[39mreturn\u001b[39;00m buffer\u001b[39m.\u001b[39mgetvalue()\n\u001b[1;32m    530\u001b[0m \u001b[39melse\u001b[39;00m:\n\u001b[1;32m    531\u001b[0m     \u001b[39m# StringIO doesn't like amt=None\u001b[39;00m\n\u001b[0;32m--> 532\u001b[0m     \u001b[39mreturn\u001b[39;00m \u001b[39mself\u001b[39;49m\u001b[39m.\u001b[39;49m_fp\u001b[39m.\u001b[39;49mread(amt) \u001b[39mif\u001b[39;00m amt \u001b[39mis\u001b[39;00m \u001b[39mnot\u001b[39;00m \u001b[39mNone\u001b[39;00m \u001b[39melse\u001b[39;00m \u001b[39mself\u001b[39m\u001b[39m.\u001b[39m_fp\u001b[39m.\u001b[39mread()\n",
      "File \u001b[0;32m/Library/Frameworks/Python.framework/Versions/3.9/lib/python3.9/http/client.py:462\u001b[0m, in \u001b[0;36mHTTPResponse.read\u001b[0;34m(self, amt)\u001b[0m\n\u001b[1;32m    459\u001b[0m \u001b[39mif\u001b[39;00m amt \u001b[39mis\u001b[39;00m \u001b[39mnot\u001b[39;00m \u001b[39mNone\u001b[39;00m:\n\u001b[1;32m    460\u001b[0m     \u001b[39m# Amount is given, implement using readinto\u001b[39;00m\n\u001b[1;32m    461\u001b[0m     b \u001b[39m=\u001b[39m \u001b[39mbytearray\u001b[39m(amt)\n\u001b[0;32m--> 462\u001b[0m     n \u001b[39m=\u001b[39m \u001b[39mself\u001b[39;49m\u001b[39m.\u001b[39;49mreadinto(b)\n\u001b[1;32m    463\u001b[0m     \u001b[39mreturn\u001b[39;00m \u001b[39mmemoryview\u001b[39m(b)[:n]\u001b[39m.\u001b[39mtobytes()\n\u001b[1;32m    464\u001b[0m \u001b[39melse\u001b[39;00m:\n\u001b[1;32m    465\u001b[0m     \u001b[39m# Amount is not given (unbounded read) so we must check self.length\u001b[39;00m\n\u001b[1;32m    466\u001b[0m     \u001b[39m# and self.chunked\u001b[39;00m\n",
      "File \u001b[0;32m/Library/Frameworks/Python.framework/Versions/3.9/lib/python3.9/http/client.py:506\u001b[0m, in \u001b[0;36mHTTPResponse.readinto\u001b[0;34m(self, b)\u001b[0m\n\u001b[1;32m    501\u001b[0m         b \u001b[39m=\u001b[39m \u001b[39mmemoryview\u001b[39m(b)[\u001b[39m0\u001b[39m:\u001b[39mself\u001b[39m\u001b[39m.\u001b[39mlength]\n\u001b[1;32m    503\u001b[0m \u001b[39m# we do not use _safe_read() here because this may be a .will_close\u001b[39;00m\n\u001b[1;32m    504\u001b[0m \u001b[39m# connection, and the user is reading more bytes than will be provided\u001b[39;00m\n\u001b[1;32m    505\u001b[0m \u001b[39m# (for example, reading in 1k chunks)\u001b[39;00m\n\u001b[0;32m--> 506\u001b[0m n \u001b[39m=\u001b[39m \u001b[39mself\u001b[39;49m\u001b[39m.\u001b[39;49mfp\u001b[39m.\u001b[39;49mreadinto(b)\n\u001b[1;32m    507\u001b[0m \u001b[39mif\u001b[39;00m \u001b[39mnot\u001b[39;00m n \u001b[39mand\u001b[39;00m b:\n\u001b[1;32m    508\u001b[0m     \u001b[39m# Ideally, we would raise IncompleteRead if the content-length\u001b[39;00m\n\u001b[1;32m    509\u001b[0m     \u001b[39m# wasn't satisfied, but it might break compatibility.\u001b[39;00m\n\u001b[1;32m    510\u001b[0m     \u001b[39mself\u001b[39m\u001b[39m.\u001b[39m_close_conn()\n",
      "File \u001b[0;32m/Library/Frameworks/Python.framework/Versions/3.9/lib/python3.9/socket.py:704\u001b[0m, in \u001b[0;36mSocketIO.readinto\u001b[0;34m(self, b)\u001b[0m\n\u001b[1;32m    702\u001b[0m \u001b[39mwhile\u001b[39;00m \u001b[39mTrue\u001b[39;00m:\n\u001b[1;32m    703\u001b[0m     \u001b[39mtry\u001b[39;00m:\n\u001b[0;32m--> 704\u001b[0m         \u001b[39mreturn\u001b[39;00m \u001b[39mself\u001b[39;49m\u001b[39m.\u001b[39;49m_sock\u001b[39m.\u001b[39;49mrecv_into(b)\n\u001b[1;32m    705\u001b[0m     \u001b[39mexcept\u001b[39;00m timeout:\n\u001b[1;32m    706\u001b[0m         \u001b[39mself\u001b[39m\u001b[39m.\u001b[39m_timeout_occurred \u001b[39m=\u001b[39m \u001b[39mTrue\u001b[39;00m\n",
      "\u001b[0;31mKeyboardInterrupt\u001b[0m: "
     ]
    }
   ],
   "source": [
    "import requests as r\n",
    "from tqdm import tqdm\n",
    "import os\n",
    "\n",
    "\n",
    "# könnte man multithreaden, muss aber nur einmal laufen\n",
    "\n",
    "try:\n",
    "    os.mkdir(\"all_zips\")\n",
    "except FileExistsError:\n",
    "    pass\n",
    "for row in tqdm(cleaned_list):\n",
    "    url = row[0]\n",
    "    filename = row[1] + \" \" + row[2] +\" \" + row[3] + \".zip\"\n",
    "    filename = filename.replace(\" \", \"_\") # repalce whitespaces\n",
    "    if filename in os.listdir(\"all_zips\"):\n",
    "        continue\n",
    "    try:\n",
    "        response = r.get(url, timeout=5) # get file\n",
    "        open(\"all_zips/\" + filename, \"wb\").write(response.content) # save zip\n",
    "    except Exception as e:\n",
    "        print(e)"
   ]
  },
  {
   "cell_type": "code",
   "execution_count": 15,
   "metadata": {},
   "outputs": [
    {
     "name": "stdout",
     "output_type": "stream",
     "text": [
      "['all_zips\\\\US_Alabama_Birmingham', 'all_zips\\\\US_Alabama_Huntsville', 'all_zips\\\\US_Alabama_Montgomery', 'all_zips\\\\US_Alaska_Anchorage', 'all_zips\\\\US_Alaska_Juneau', 'all_zips\\\\US_Alaska_Ketchikan', 'all_zips\\\\US_Alaska_Klawock_', 'all_zips\\\\US_Arizona_Benson', 'all_zips\\\\US_Arizona_Bullhead_City', 'all_zips\\\\US_Arizona_Cottonwood', 'all_zips\\\\US_Arizona_Phoenix', 'all_zips\\\\US_Arizona_Sedona', 'all_zips\\\\US_Arizona_Sierra_Vista', 'all_zips\\\\US_Arizona_Tucson', 'all_zips\\\\US_Arizona_Yuma', 'all_zips\\\\US_California_Alhambra', 'all_zips\\\\US_California_Anaheim', 'all_zips\\\\US_California_Arcadia', 'all_zips\\\\US_California_Arcata', 'all_zips\\\\US_California_Arvin', 'all_zips\\\\US_California_Auburn', 'all_zips\\\\US_California_Bakersfield', 'all_zips\\\\US_California_Baldwin_Park', 'all_zips\\\\US_California_Banning', 'all_zips\\\\US_California_Beaumont', 'all_zips\\\\US_California_Bellflower', 'all_zips\\\\US_California_Bell_Gardens', 'all_zips\\\\US_California_Berkeley', 'all_zips\\\\US_California_Big_Bear', 'all_zips\\\\US_California_Bishop', 'all_zips\\\\US_California_Camarillo', 'all_zips\\\\US_California_Carson', 'all_zips\\\\US_California_Chico', 'all_zips\\\\US_California_Clovis', 'all_zips\\\\US_California_Compton', 'all_zips\\\\US_California_Corona', 'all_zips\\\\US_California_Crescent_City', 'all_zips\\\\US_California_Cudahy', 'all_zips\\\\US_California_Culver_City', 'all_zips\\\\US_California_Davis', 'all_zips\\\\US_California_Delano', 'all_zips\\\\US_California_Dixon', 'all_zips\\\\US_California_Duarte', 'all_zips\\\\US_California_El_Monte', 'all_zips\\\\US_California_El_Segundo', 'all_zips\\\\US_California_Emeryville', 'all_zips\\\\US_California_Escalon', 'all_zips\\\\US_California_Fairfield', 'all_zips\\\\US_California_Fresno', 'all_zips\\\\US_California_Gardena', 'all_zips\\\\US_California_Hanford', 'all_zips\\\\US_California_Hesperia', 'all_zips\\\\US_California_Hollister', 'all_zips\\\\US_California_Huntington_Park', 'all_zips\\\\US_California_Jackson', 'all_zips\\\\US_California_Laguna_Beach', 'all_zips\\\\US_California_Lancaster', 'all_zips\\\\US_California_Lawndale', 'all_zips\\\\US_California_La_Puente', 'all_zips\\\\US_California_Livermore', 'all_zips\\\\US_California_Long_Beach', 'all_zips\\\\US_California_Los_Angeles', 'all_zips\\\\US_California_Madera', 'all_zips\\\\US_California_Merced', 'all_zips\\\\US_California_Modesto', 'all_zips\\\\US_California_Modoc_County', 'all_zips\\\\US_California_Monrovia', 'all_zips\\\\US_California_Montebello', 'all_zips\\\\US_California_Monterey', 'all_zips\\\\US_California_Monterey_Park', 'all_zips\\\\US_California_Moorpark', 'all_zips\\\\US_California_Morro_Bay', 'all_zips\\\\US_California_Mountain_View', 'all_zips\\\\US_California_Napa', 'all_zips\\\\US_California_Needles', 'all_zips\\\\US_California_Nevada_County', 'all_zips\\\\US_California_Oakland', 'all_zips\\\\US_California_Oxnard', 'all_zips\\\\US_California_Palm_Springs', 'all_zips\\\\US_California_Petaluma', 'all_zips\\\\US_California_Pinole', 'all_zips\\\\US_California_Redding', 'all_zips\\\\US_California_Red_Bluff', 'all_zips\\\\US_California_Ridgecrest', 'all_zips\\\\US_California_Rio_Vista', 'all_zips\\\\US_California_Ripon', 'all_zips\\\\US_California_Riverside', 'all_zips\\\\US_California_Rosemead', 'all_zips\\\\US_California_Sacramento', 'all_zips\\\\US_California_Sacremento', 'all_zips\\\\US_California_Santa_Barbara', 'all_zips\\\\US_California_Santa_Maria', 'all_zips\\\\US_California_Santa_Monica', 'all_zips\\\\US_California_Santa_Rosa', 'all_zips\\\\US_California_San_Andreas', 'all_zips\\\\US_California_San_Bernardino', 'all_zips\\\\US_California_San_Diego', 'all_zips\\\\US_California_San_Francisco', 'all_zips\\\\US_California_San_Jose', 'all_zips\\\\US_California_San_Leandro', 'all_zips\\\\US_California_San_Luis_Obispo', 'all_zips\\\\US_California_San_Mateo', 'all_zips\\\\US_California_Sierra_Madre', 'all_zips\\\\US_California_Simi_Valley', 'all_zips\\\\US_California_Solvang', 'all_zips\\\\US_California_Stanford', 'all_zips\\\\US_California_Stockton', 'all_zips\\\\US_California_Susanville', 'all_zips\\\\US_California_Taft', 'all_zips\\\\US_California_Tahoe_City', 'all_zips\\\\US_California_Thousand_Oaks', 'all_zips\\\\US_California_Thousand_Palms', 'all_zips\\\\US_California_Tracy', 'all_zips\\\\US_California_Tulare', 'all_zips\\\\US_California_Turlock', 'all_zips\\\\US_California_Ukiah', 'all_zips\\\\US_California_Vacaville', 'all_zips\\\\US_California_Wasco', 'all_zips\\\\US_California_Yreka', 'all_zips\\\\US_California_Yuba_City', 'all_zips\\\\US_Colorado_Aspen', 'all_zips\\\\US_Colorado_Avon', 'all_zips\\\\US_Colorado_Boulder', 'all_zips\\\\US_Colorado_Breckenridge', 'all_zips\\\\US_Colorado_Broomfield', 'all_zips\\\\US_Colorado_Colorado_Springs', 'all_zips\\\\US_Colorado_Crested_Butte', 'all_zips\\\\US_Colorado_Cripple_Creek', 'all_zips\\\\US_Colorado_Denver', 'all_zips\\\\US_Colorado_Eagle_County', 'all_zips\\\\US_Colorado_Estes_Park', 'all_zips\\\\US_Colorado_Fort_Collins', 'all_zips\\\\US_Colorado_Georgetown', 'all_zips\\\\US_Colorado_Ignacio', 'all_zips\\\\US_Colorado_Las_Animas', 'all_zips\\\\US_Colorado_Montrose', 'all_zips\\\\US_Colorado_Pueblo', 'all_zips\\\\US_Colorado_Snowmass_Village', 'all_zips\\\\US_Colorado_Telluride', 'all_zips\\\\US_Colorado_Town_of_Mountain_Village', 'all_zips\\\\US_Colorado_Vail', 'all_zips\\\\US_Colorado_Winter_Park', 'all_zips\\\\US_Connecticut_Bridgeport', 'all_zips\\\\US_Connecticut_Centerbrook', 'all_zips\\\\US_Connecticut_Preston', 'all_zips\\\\US_Connecticut_Stamford', 'all_zips\\\\US_District_of_Columbia_Kent', 'all_zips\\\\US_District_of_Columbia_Washington', 'all_zips\\\\US_Florida_Brooksville', 'all_zips\\\\US_Florida_Crestview', 'all_zips\\\\US_Florida_Fort_Lauderdale', 'all_zips\\\\US_Florida_Fort_Myers', 'all_zips\\\\US_Florida_Key_West', 'all_zips\\\\US_Florida_Ocala', 'all_zips\\\\US_Florida_Palm_Beach', 'all_zips\\\\US_Florida_Panama_City', 'all_zips\\\\US_Florida_Pensacola', 'all_zips\\\\US_Florida_Pinellas', 'all_zips\\\\US_Florida_Pompano_Beach', 'all_zips\\\\US_Florida_Saint_Augustine', 'all_zips\\\\US_Florida_Sarasota', 'all_zips\\\\US_Florida_Spring_Hill', 'all_zips\\\\US_Florida_Tallahassee', 'all_zips\\\\US_Florida_Tampa', 'all_zips\\\\US_Georgia_Atlanta', 'all_zips\\\\US_Georgia_Marietta', 'all_zips\\\\US_Georgia_Savannah', \"all_zips\\\\US_Hawaii_Hawai'i_Island\", 'all_zips\\\\US_Hawaii_Honolulu', 'all_zips\\\\US_Idaho_Boise', 'all_zips\\\\US_Idaho_Ketchum', 'all_zips\\\\US_Illinois_Chicago', 'all_zips\\\\US_Illinois_DeKalb', 'all_zips\\\\US_Illinois_Peoria', 'all_zips\\\\US_Illinois_Rock_Island', 'all_zips\\\\US_Illinois_Springfield', 'all_zips\\\\US_Illinois_Urbana', 'all_zips\\\\US_Indiana_Bloomington', 'all_zips\\\\US_Indiana_Gary', 'all_zips\\\\US_Indiana_Indianapolis', 'all_zips\\\\US_Indiana_Lafayette', 'all_zips\\\\US_Indiana_Muncie', 'all_zips\\\\US_Indiana_South_Bend', 'all_zips\\\\US_Indiana_Terre_Haute', 'all_zips\\\\US_Iowa_Ames', 'all_zips\\\\US_Iowa_Bettendorf', 'all_zips\\\\US_Iowa_Burlington', 'all_zips\\\\US_Iowa_Cedar_Rapids', 'all_zips\\\\US_Iowa_Clinton', 'all_zips\\\\US_Iowa_Coralville', 'all_zips\\\\US_Iowa_Dubuque', 'all_zips\\\\US_Iowa_Fort_Dodge', 'all_zips\\\\US_Iowa_Iowa_City', 'all_zips\\\\US_Iowa_Marshalltown', 'all_zips\\\\US_Iowa_Mason_City', 'all_zips\\\\US_Iowa_Muscatine', 'all_zips\\\\US_Iowa_Ottumwa', 'all_zips\\\\US_Iowa_Sioux_City', 'all_zips\\\\US_Iowa_Waterloo', 'all_zips\\\\US_Kansas_Lawrence', 'all_zips\\\\US_Kentucky_Fort_Wright', 'all_zips\\\\US_Kentucky_Lexington', 'all_zips\\\\US_Kentucky_Louisville', 'all_zips\\\\US_Louisiana_Baton_Rouge', 'all_zips\\\\US_Maine_Casco_Bay', 'all_zips\\\\US_Maine_Portland', 'all_zips\\\\US_Maryland_Aberdeen', 'all_zips\\\\US_Maryland_Allegany', 'all_zips\\\\US_Maryland_Annapolis', 'all_zips\\\\US_Maryland_Baltimore', 'all_zips\\\\US_Maryland_Bethesda', 'all_zips\\\\US_Maryland_Montgomery', 'all_zips\\\\US_Maryland_Ocean_City', 'all_zips\\\\US_Maryland_Salisbury', 'all_zips\\\\US_Maryland_St._Charles', 'all_zips\\\\US_Maryland_Towson', 'all_zips\\\\US_Massachusetts_Attleboro', 'all_zips\\\\US_Massachusetts_Berkshire', 'all_zips\\\\US_Massachusetts_Billerica', 'all_zips\\\\US_Massachusetts_Boston', 'all_zips\\\\US_Massachusetts_Brockton', 'all_zips\\\\US_Massachusetts_Cape_Cod', 'all_zips\\\\US_Massachusetts_Franklin', 'all_zips\\\\US_Massachusetts_Lowell', 'all_zips\\\\US_Massachusetts_Nantucket', 'all_zips\\\\US_Massachusetts_New_Bedford', 'all_zips\\\\US_Massachusetts_Worcester', 'all_zips\\\\US_Michigan_Ann_Arbor', 'all_zips\\\\US_Michigan_Detroit', 'all_zips\\\\US_Michigan_Flint', 'all_zips\\\\US_Michigan_Traverse_City', 'all_zips\\\\US_Minnesota_Duluth', 'all_zips\\\\US_Minnesota_Minneapolis', 'all_zips\\\\US_Mississippi_Jackson', 'all_zips\\\\US_Missouri_Kansas_City', 'all_zips\\\\US_Missouri_St._Louis', 'all_zips\\\\US_Montana_Bozeman', 'all_zips\\\\US_Montana_Butte', 'all_zips\\\\US_Montana_Helena', 'all_zips\\\\US_Montana_Missoula', 'all_zips\\\\US_Nebraska_Omaha', 'all_zips\\\\US_Nevada_Carson_City', 'all_zips\\\\US_Nevada_Las_Vegas', 'all_zips\\\\US_New_Jersey_Jersey_City', 'all_zips\\\\US_New_Mexico_Albuquerque', 'all_zips\\\\US_New_Mexico_Farmington', 'all_zips\\\\US_New_Mexico_Gallup', 'all_zips\\\\US_New_Mexico_Las_Cruces', 'all_zips\\\\US_New_Mexico_Santa_Fe', 'all_zips\\\\US_New_York_Albany', 'all_zips\\\\US_New_York_Binghamton', 'all_zips\\\\US_New_York_Buffalo', 'all_zips\\\\US_New_York_Canton', 'all_zips\\\\US_New_York_Clarkstown', 'all_zips\\\\US_New_York_Cooperstown', 'all_zips\\\\US_New_York_Elmira', 'all_zips\\\\US_New_York_Huntington', 'all_zips\\\\US_New_York_Ithaca', 'all_zips\\\\US_New_York_Jamestown', 'all_zips\\\\US_New_York_Long_Beach', 'all_zips\\\\US_New_York_Long_Island', 'all_zips\\\\US_New_York_Lowville', 'all_zips\\\\US_New_York_Mechanicville', 'all_zips\\\\US_New_York_Nassau', 'all_zips\\\\US_New_York_New_York_City', 'all_zips\\\\US_New_York_North_Malone', 'all_zips\\\\US_New_York_Norwich', 'all_zips\\\\US_New_York_Olean', 'all_zips\\\\US_New_York_Otsego', 'all_zips\\\\US_New_York_Plattsburg', 'all_zips\\\\US_New_York_Plattsburgh', 'all_zips\\\\US_New_York_Poughkeepsie', 'all_zips\\\\US_New_York_Rochester', 'all_zips\\\\US_New_York_Saratoga_Springs', 'all_zips\\\\US_New_York_Schenectady', 'all_zips\\\\US_New_York_Utica', 'all_zips\\\\US_New_York_Watertown', 'all_zips\\\\US_New_York_White_Plains', 'all_zips\\\\US_New_York_Yates', 'all_zips\\\\US_North_Carolina_Asheville', 'all_zips\\\\US_North_Carolina_Cary', 'all_zips\\\\US_North_Carolina_Chapel_Hill', 'all_zips\\\\US_North_Carolina_Concord', 'all_zips\\\\US_North_Carolina_Durham', 'all_zips\\\\US_North_Carolina_Greensboro', 'all_zips\\\\US_North_Carolina_Raleigh', 'all_zips\\\\US_North_Carolina_Rocky_Mount', 'all_zips\\\\US_North_Carolina_Wilmington', 'all_zips\\\\US_Ohio_Akron', 'all_zips\\\\US_Ohio_Brecksville', 'all_zips\\\\US_Ohio_Canton', 'all_zips\\\\US_Ohio_Cincinnati', 'all_zips\\\\US_Ohio_Cleveland', 'all_zips\\\\US_Ohio_Columbus', 'all_zips\\\\US_Ohio_Dayton', 'all_zips\\\\US_Ohio_Hamilton', 'all_zips\\\\US_Ohio_Lima', 'all_zips\\\\US_Ohio_Youngstown', 'all_zips\\\\US_Oklahoma_Oklahoma_City', 'all_zips\\\\US_Oklahoma_Tulsa', 'all_zips\\\\US_Oregon_Albany', 'all_zips\\\\US_Oregon_Astoria', 'all_zips\\\\US_Oregon_Bend', 'all_zips\\\\US_Oregon_Brookings', 'all_zips\\\\US_Oregon_Burns', 'all_zips\\\\US_Oregon_Canby', 'all_zips\\\\US_Oregon_Coos_Bay', 'all_zips\\\\US_Oregon_Corvallis', 'all_zips\\\\US_Oregon_Cottage_Grove', 'all_zips\\\\US_Oregon_Eugene', 'all_zips\\\\US_Oregon_Florence', 'all_zips\\\\US_Oregon_Grants_Pass', 'all_zips\\\\US_Oregon_Hood_River', 'all_zips\\\\US_Oregon_Klamath_Falls', 'all_zips\\\\US_Oregon_Medford', 'all_zips\\\\US_Oregon_Milton-Freewater', 'all_zips\\\\US_Oregon_Newport', 'all_zips\\\\US_Oregon_Oakridge', 'all_zips\\\\US_Oregon_Ontario', 'all_zips\\\\US_Oregon_Pendleton', 'all_zips\\\\US_Oregon_Portland', 'all_zips\\\\US_Oregon_Redmond', 'all_zips\\\\US_Oregon_Roseburg', 'all_zips\\\\US_Oregon_Salem', 'all_zips\\\\US_Oregon_Sandy', 'all_zips\\\\US_Oregon_Sweet_Home', 'all_zips\\\\US_Oregon_Tillamook', 'all_zips\\\\US_Oregon_Wallowa', 'all_zips\\\\US_Oregon_Wilsonville', 'all_zips\\\\US_Oregon_Woodburn', 'all_zips\\\\US_Oregon_Yamhill', 'all_zips\\\\US_Oregon__Molalla', 'all_zips\\\\US_Pennsylvania_Allentown', 'all_zips\\\\US_Pennsylvania_Berks_Area', 'all_zips\\\\US_Pennsylvania_Erie', 'all_zips\\\\US_Pennsylvania_Lancaster', 'all_zips\\\\US_Pennsylvania_Philadelphia', 'all_zips\\\\US_Pennsylvania_Pittsburgh', 'all_zips\\\\US_Pennsylvania_York', 'all_zips\\\\US_Rhode_Island_Newport', 'all_zips\\\\US_Rhode_Island_North_Kingstown', 'all_zips\\\\US_South_Carolina_Charleston', 'all_zips\\\\US_South_Carolina_Clemson', 'all_zips\\\\US_South_Carolina_Columbia', 'all_zips\\\\US_South_Dakota_Sioux_Falls', 'all_zips\\\\US_Tennessee_Chattanooga', 'all_zips\\\\US_Tennessee_Knoxville', 'all_zips\\\\US_Tennessee_Memphis', 'all_zips\\\\US_Tennessee_Nashville', 'all_zips\\\\US_Texas_Amarillo', 'all_zips\\\\US_Texas_Corpus_Christi', 'all_zips\\\\US_Texas_Dallas', 'all_zips\\\\US_Texas_Denton', 'all_zips\\\\US_Texas_El_Paso', 'all_zips\\\\US_Texas_Fort_Worth', 'all_zips\\\\US_Texas_Houston', 'all_zips\\\\US_Texas_Lubbock', 'all_zips\\\\US_Utah_Salt_Lake_City', 'all_zips\\\\US_Utah_St._George', 'all_zips\\\\US_Vermont_Bennington', 'all_zips\\\\US_Vermont_Burlington', 'all_zips\\\\US_Vermont_Hartford', 'all_zips\\\\US_Vermont_Orange_County', 'all_zips\\\\US_Vermont_Rockingham', 'all_zips\\\\US_Vermont_Rutland', 'all_zips\\\\US_Vermont_Wilmington', 'all_zips\\\\US_Virginia_Alexandria', 'all_zips\\\\US_Virginia_Altavista', 'all_zips\\\\US_Virginia_Arlington', 'all_zips\\\\US_Virginia_Blackstone', 'all_zips\\\\US_Virginia_Bluefield', 'all_zips\\\\US_Virginia_Bristol', 'all_zips\\\\US_Virginia_Fairfax', 'all_zips\\\\US_Virginia_Greensville', 'all_zips\\\\US_Virginia_Hampton', 'all_zips\\\\US_Virginia_Lynchburg', 'all_zips\\\\US_Virginia_Petersburg', 'all_zips\\\\US_Virginia_Pulaski', 'all_zips\\\\US_Virginia_Radford', 'all_zips\\\\US_Virginia_Redmond', 'all_zips\\\\US_Virginia_Roanoke', 'all_zips\\\\US_Virginia_Winchester', 'all_zips\\\\US_Virginia_Woodbridge', 'all_zips\\\\US_Washington_Aberdeen', 'all_zips\\\\US_Washington_Bellingham', 'all_zips\\\\US_Washington_Bremerton', 'all_zips\\\\US_Washington_Ellensburg', 'all_zips\\\\US_Washington_Everett', 'all_zips\\\\US_Washington_Longview', 'all_zips\\\\US_Washington_Olympia', 'all_zips\\\\US_Washington_Richland', 'all_zips\\\\US_Washington_Seattle', 'all_zips\\\\US_Washington_Selah', 'all_zips\\\\US_Washington_Snoqualmie', 'all_zips\\\\US_Washington_Vancouver', 'all_zips\\\\US_Washington_Washington', 'all_zips\\\\US_Washington_Wenatchee', 'all_zips\\\\US_Washington_Wenatchee_', 'all_zips\\\\US_Washington_Yakima', 'all_zips\\\\US_West_Virginia_Morgantown', 'all_zips\\\\US_Wisconsin_Green_Bay', 'all_zips\\\\US_Wisconsin_Janesville', 'all_zips\\\\US_Wisconsin_Madison', 'all_zips\\\\US_Wisconsin_Oshkosh', 'all_zips\\\\US_Wisconsin_Racine', 'all_zips\\\\US_Wisconsin_Sheboygan', 'all_zips\\\\US_Wisconsin_Waukesha', 'all_zips\\\\US_Wisconsin_Wausau']\n"
     ]
    }
   ],
   "source": [
    "import glob\n",
    "all_files = glob.glob(\"all_zips/*\")\n",
    "print(all_files)"
   ]
  },
  {
   "cell_type": "code",
   "execution_count": 17,
   "metadata": {},
   "outputs": [
    {
     "name": "stderr",
     "output_type": "stream",
     "text": [
      " 30%|██▉       | 121/408 [00:04<00:09, 29.58it/s]"
     ]
    },
    {
     "name": "stdout",
     "output_type": "stream",
     "text": [
      "File is not a zip file\n"
     ]
    },
    {
     "name": "stderr",
     "output_type": "stream",
     "text": [
      " 41%|████▏     | 169/408 [00:07<00:19, 12.10it/s]"
     ]
    },
    {
     "name": "stdout",
     "output_type": "stream",
     "text": [
      "File is not a zip file\n"
     ]
    },
    {
     "name": "stderr",
     "output_type": "stream",
     "text": [
      " 43%|████▎     | 174/408 [00:07<00:20, 11.61it/s]"
     ]
    },
    {
     "name": "stdout",
     "output_type": "stream",
     "text": [
      "File is not a zip file\n"
     ]
    },
    {
     "name": "stderr",
     "output_type": "stream",
     "text": [
      " 61%|██████▏   | 250/408 [00:11<00:06, 24.55it/s]"
     ]
    },
    {
     "name": "stdout",
     "output_type": "stream",
     "text": [
      "File is not a zip file\n",
      "File is not a zip file\n"
     ]
    },
    {
     "name": "stderr",
     "output_type": "stream",
     "text": [
      " 95%|█████████▌| 389/408 [00:17<00:00, 31.07it/s]"
     ]
    },
    {
     "name": "stdout",
     "output_type": "stream",
     "text": [
      "File is not a zip file\n"
     ]
    },
    {
     "name": "stderr",
     "output_type": "stream",
     "text": [
      " 96%|█████████▋| 393/408 [00:18<00:01, 13.71it/s]"
     ]
    },
    {
     "name": "stdout",
     "output_type": "stream",
     "text": [
      "File is not a zip file\n"
     ]
    },
    {
     "name": "stderr",
     "output_type": "stream",
     "text": [
      " 99%|█████████▊| 402/408 [00:19<00:00, 15.98it/s]"
     ]
    },
    {
     "name": "stdout",
     "output_type": "stream",
     "text": [
      "File is not a zip file\n"
     ]
    },
    {
     "name": "stderr",
     "output_type": "stream",
     "text": [
      "100%|██████████| 408/408 [00:19<00:00, 20.69it/s]\n"
     ]
    }
   ],
   "source": [
    "import glob\n",
    "import zipfile\n",
    "from tqdm import tqdm\n",
    "import os\n",
    "\n",
    "all_files = glob.glob(\"all_zips/*\")\n",
    "\n",
    "\n",
    "for file in tqdm(all_files):\n",
    "\n",
    "# some files are not zip files\n",
    "    try:    \n",
    "        with zipfile.ZipFile(file, 'r') as zip_ref:\n",
    "\n",
    "            filename = os.path.basename(file)\n",
    "            os.mkdir(\"all_gtfs/\" + filename)\n",
    "            zip_ref.extractall(\"all_gtfs/\" + filename)\n",
    "    except Exception as e:\n",
    "        print(e)"
   ]
  },
  {
   "cell_type": "code",
   "execution_count": null,
   "metadata": {},
   "outputs": [],
   "source": []
  }
 ],
 "metadata": {
  "kernelspec": {
   "display_name": "Python 3.9.7 ('venv': venv)",
   "language": "python",
   "name": "python3"
  },
  "language_info": {
   "codemirror_mode": {
    "name": "ipython",
    "version": 3
   },
   "file_extension": ".py",
   "mimetype": "text/x-python",
   "name": "python",
   "nbconvert_exporter": "python",
   "pygments_lexer": "ipython3",
   "version": "3.9.7"
  },
  "orig_nbformat": 4,
  "vscode": {
   "interpreter": {
    "hash": "8fa5230c337cef4bdd6e6d95c6b2d48fd1b732fa14682ff39acb3d19543b6b96"
   }
  }
 },
 "nbformat": 4,
 "nbformat_minor": 2
}
