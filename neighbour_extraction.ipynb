{
 "cells": [
  {
   "cell_type": "markdown",
   "metadata": {},
   "source": [
    "## Extraktion der Daten:\n",
    "- basierend auf example.py werden hier Daten extrahier"
   ]
  },
  {
   "cell_type": "markdown",
   "metadata": {},
   "source": [
    "Imports:"
   ]
  },
  {
   "cell_type": "code",
   "execution_count": 1,
   "metadata": {},
   "outputs": [],
   "source": [
    "import json\n",
    "from tqdm import tqdm\n",
    "import time\n",
    "\n",
    "from utils import *"
   ]
  },
  {
   "cell_type": "markdown",
   "metadata": {},
   "source": [
    "### Finden von Occurences\n",
    "\n",
    "Aus stop_times.txt werden für jeden Stop aus stops.txt Zeilen extrahiert, in denen der stop vorkommt:"
   ]
  },
  {
   "cell_type": "code",
   "execution_count": 2,
   "metadata": {},
   "outputs": [],
   "source": [
    "def all_occ_numbers():\n",
    "    print(\"finding occurencies\")\n",
    "    stop_times = load_stop_times()\n",
    "    line_numbers = {k: [] for k in [i[0] for i in load_stops()]}\n",
    "    c = time.perf_counter()\n",
    "    new_list = []\n",
    "    for ind, elem in enumerate(stop_times):\n",
    "        new_list.append((elem[3], ind))\n",
    "    #new_list = sorted(new_list, key=lambda x: x[0])\n",
    "    for elem in new_list:\n",
    "        line_numbers[elem[0]].append(elem[1])\n",
    "    with open(\"lvb_auswertung/occ_numbers.json\", \"w+\") as f:\n",
    "        json.dump(line_numbers, f, indent=4)\n",
    "    print(\"found occurencies\")\n",
    "\n",
    "def load_all_occ_numbers():\n",
    "    with open(\"lvb_auswertung/occ_numbers.json\") as f:\n",
    "        data = json.load(f)\n",
    "    return data\n",
    "\n"
   ]
  },
  {
   "cell_type": "markdown",
   "metadata": {},
   "source": [
    "### Finden von Nachbarn mit minimaler Transferzeit\n",
    "\n",
    "Nun finden wir für jede Occurency und jede Station heraus, welche Nachbarn und welche minimale Transferzeit sie zu einem Nachbarn hat.\n",
    "\n",
    "Zunächst benötigen wir dazu zwei Hilfsfunktionen:\n"
   ]
  },
  {
   "cell_type": "code",
   "execution_count": 3,
   "metadata": {},
   "outputs": [],
   "source": [
    "def time_sec(time):\n",
    "    time = time.replace('\"', '')\n",
    "    return 3600*int(time[0:2])+60*int(time[3:5])+int(time[6:8])\n",
    "\n",
    "def find_neighbours(stop_times, occ_numbers):\n",
    "    neighbours = []\n",
    "    neighbour_times = []\n",
    "    for occ_number in occ_numbers:\n",
    "        point = stop_times[occ_number]\n",
    "        point_arr = time_sec(stop_times[occ_number][1])\n",
    "        point_dep = time_sec(stop_times[occ_number][2])\n",
    "        if occ_number != 0:\n",
    "            before = stop_times[occ_number-1]\n",
    "            diff = point_arr-time_sec(stop_times[occ_number-1][2])\n",
    "            if before[0] == point[0]:\n",
    "                neighbour_times.append((before[3], diff))\n",
    "                neighbours.append(before[3])\n",
    "        \n",
    "        if occ_number != len(stop_times)-1:\n",
    "            after = stop_times[occ_number+1]\n",
    "            diff = time_sec(stop_times[occ_number+1][1])-point_dep\n",
    "            if after[0] == point[0]:\n",
    "                neighbour_times.append((after[3], diff))\n",
    "                neighbours.append(after[3])\n",
    "    neighbours = list(set(neighbours))\n",
    "    def min_time(neighbour):\n",
    "        min_list = [elem[1] for elem in neighbour_times if elem[0] == neighbour]\n",
    "        min_list = [elem for elem in min_list if elem != 0]\n",
    "        if len(min_list) == 0:\n",
    "            return 0\n",
    "        return min(min_list)\n",
    "    return [(\n",
    "                neighbour, min_time(neighbour)\n",
    "            ) for neighbour in neighbours]"
   ]
  },
  {
   "cell_type": "markdown",
   "metadata": {},
   "source": [
    "Erklärung der Funktionen:\n",
    "\n",
    "- time_sec:\n",
    "  - Eine Zeit im Format \"hh:mm:ss\" wird in Sekunden umgerechnet\n",
    "  - Die Differenzen können einfach zwischen der arrival und departure-Zeit errechnet werden, findet eine Fahrt um Mitternacht statt, gibt es Uhrzeiten mit Stunde 24 und 25, daher kann diese Funktion für Differenzen verwendet werden.\n",
    "\n",
    "- find_neighbours: ermittelt für einen Stop alle Nachbarn mit minimaler Transferzeit\n",
    "  - Die Liste mit allen stop_times und occurency_numbers für einen Stop wird übergeben\n",
    "  - für jede occurency eines Stops wird ermittelt, welcher Stop davor und danach (before und after) angefahren wird (index davor bzw. danach falls vorhanden, gleicher Trip)\n",
    "  - zu einer Liste wird der Nachbar hinzugefügt, zu einer anderen der Nachbar und eine Zeitdifferenz\n",
    "  - zuletzt wird für jeden Nachbar die minimale Transferzeit größer als 0 extrahiert"
   ]
  },
  {
   "cell_type": "markdown",
   "metadata": {},
   "source": [
    "Ermittlung aller Nachbarn\n",
    "\n",
    "Anschließend wird die find_neighbours-Funktion für jeden Stop aus stops.txt ausgeführt, die gefundenen Nachbarn und Zeiten werden gespeichert."
   ]
  },
  {
   "cell_type": "code",
   "execution_count": 6,
   "metadata": {},
   "outputs": [],
   "source": [
    "def all_neighbours():\n",
    "    print(\"loading data...\")\n",
    "    stop_ids = [i[0] for i in load_stops()]\n",
    "    stop_times = load_stop_times()\n",
    "    occ_numbers = load_all_occ_numbers()\n",
    "    all_neighbours = {}\n",
    "    print(\"finding neighbours...\")\n",
    "    #for elem in stop_ids[:1]:\n",
    "    for elem in tqdm(stop_ids):\n",
    "        all_neighbours[elem] = find_neighbours(stop_times, occ_numbers[elem])\n",
    "    with open(\"lvb_auswertung/neighbours.json\", \"w+\") as f:\n",
    "        json.dump(all_neighbours, f, indent=4)\n",
    "    print(\"finished...\")\n",
    "\n",
    "def load_all_neighbours():\n",
    "    with open(\"lvb_auswertung/neighbours.json\") as f:\n",
    "        data = json.load(f)\n",
    "    return data\n"
   ]
  },
  {
   "cell_type": "markdown",
   "metadata": {},
   "source": [
    "### Run the extractor"
   ]
  },
  {
   "cell_type": "code",
   "execution_count": 7,
   "metadata": {},
   "outputs": [
    {
     "name": "stdout",
     "output_type": "stream",
     "text": [
      "finding occurencies\n",
      "found occurencies\n",
      "loading data...\n",
      "finding neighbours...\n"
     ]
    },
    {
     "name": "stderr",
     "output_type": "stream",
     "text": [
      "100%|██████████| 4377/4377 [00:05<00:00, 828.01it/s] \n"
     ]
    },
    {
     "name": "stdout",
     "output_type": "stream",
     "text": [
      "finished...\n"
     ]
    }
   ],
   "source": [
    "all_occ_numbers()\n",
    "all_neighbours()"
   ]
  }
 ],
 "metadata": {
  "kernelspec": {
   "display_name": "Python 3.9.7 ('venv': venv)",
   "language": "python",
   "name": "python3"
  },
  "language_info": {
   "codemirror_mode": {
    "name": "ipython",
    "version": 3
   },
   "file_extension": ".py",
   "mimetype": "text/x-python",
   "name": "python",
   "nbconvert_exporter": "python",
   "pygments_lexer": "ipython3",
   "version": "3.9.7"
  },
  "orig_nbformat": 4,
  "vscode": {
   "interpreter": {
    "hash": "8fa5230c337cef4bdd6e6d95c6b2d48fd1b732fa14682ff39acb3d19543b6b96"
   }
  }
 },
 "nbformat": 4,
 "nbformat_minor": 2
}
