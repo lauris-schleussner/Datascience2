{
 "cells": [
  {
   "cell_type": "markdown",
   "metadata": {},
   "source": [
    "mehr GTFS Daten beschaffen\n",
    "\n",
    "man kann im code auch den check nach land == \"US\" rausnehmen und man bekommt Internationaler ergebnisse, warscheinlich overkill"
   ]
  },
  {
   "cell_type": "code",
   "execution_count": null,
   "metadata": {},
   "outputs": [],
   "source": [
    "%pip install tqdm"
   ]
  },
  {
   "cell_type": "code",
   "execution_count": 2,
   "metadata": {},
   "outputs": [
    {
     "name": "stdout",
     "output_type": "stream",
     "text": [
      "569\n"
     ]
    }
   ],
   "source": [
    "import csv\n",
    "\n",
    "\n",
    "# open file with all links\n",
    "with open('sources.csv', newline='', encoding = \"utf-8\") as f:\n",
    "    reader = csv.reader(f)\n",
    "    data_file = list(reader)\n",
    "    data_file.pop(0)\n",
    "\n",
    "\n",
    "# filter the data so irrelevant rows are not downloaded\n",
    "cleaned_list = []\n",
    "for row in data_file:\n",
    "\n",
    "    format = row[1]\n",
    "    link = row[10]\n",
    "\n",
    "    # for file naming later\n",
    "    country = row[3]\n",
    "    state = row[4]\n",
    "    area = row[5]\n",
    "\n",
    "    if len(state) == 0 or len(area) == 0: continue # if there are no correct names\n",
    "\n",
    "\n",
    "    if len(link)==0: link = row[11] # if first link is not there take the second one thats provided\n",
    "    if len(link)==0: continue # if it doenst exist either: skip\n",
    "    if link[-4:] != \".zip\": continue # only take files in the .zip format\n",
    "\n",
    "    if format !=  \"gtfs\": continue # skip if wrong format\n",
    "    if country != \"US\": continue # skip if wrong country\n",
    "\n",
    "    res = [link, country, state, area]\n",
    "    cleaned_list.append(res)\n",
    "print(len(cleaned_list))\n",
    "    \n"
   ]
  },
  {
   "cell_type": "code",
   "execution_count": 8,
   "metadata": {},
   "outputs": [
    {
     "name": "stdout",
     "output_type": "stream",
     "text": [
      "temporary directory for all raw downloaded data created (This can be deleted after everything is done)\n"
     ]
    },
    {
     "ename": "FileExistsError",
     "evalue": "[WinError 183] Eine Datei kann nicht erstellt werden, wenn sie bereits vorhanden ist: 'temporary_zips'",
     "output_type": "error",
     "traceback": [
      "\u001b[1;31m---------------------------------------------------------------------------\u001b[0m",
      "\u001b[1;31mFileExistsError\u001b[0m                           Traceback (most recent call last)",
      "Cell \u001b[1;32mIn [8], line 10\u001b[0m\n\u001b[0;32m      5\u001b[0m \u001b[39m# könnte man multithreaden, muss aber nur einmal laufen\u001b[39;00m\n\u001b[0;32m      6\u001b[0m \u001b[39m# requested einfach einmal jede URL und speichert das Ergebnis als ZIP\u001b[39;00m\n\u001b[0;32m      7\u001b[0m \u001b[39m# Name ist aus Land-State-City zusammengesetzt\u001b[39;00m\n\u001b[0;32m      9\u001b[0m \u001b[39mprint\u001b[39m(\u001b[39m\"\u001b[39m\u001b[39mtemporary directory for all raw downloaded data created (This can be deleted after everything is done)\u001b[39m\u001b[39m\"\u001b[39m)\n\u001b[1;32m---> 10\u001b[0m os\u001b[39m.\u001b[39mmkdir(\u001b[39m\"\u001b[39m\u001b[39mtemporary_zips\u001b[39m\u001b[39m\"\u001b[39m)\n\u001b[0;32m     11\u001b[0m \u001b[39mprint\u001b[39m(\u001b[39m\"\u001b[39m\u001b[39mstarting download, will take around 2h\u001b[39m\u001b[39m\"\u001b[39m)\n\u001b[0;32m     12\u001b[0m \u001b[39mfor\u001b[39;00m row \u001b[39min\u001b[39;00m tqdm(cleaned_list):\n",
      "\u001b[1;31mFileExistsError\u001b[0m: [WinError 183] Eine Datei kann nicht erstellt werden, wenn sie bereits vorhanden ist: 'temporary_zips'"
     ]
    }
   ],
   "source": [
    "import requests as r\n",
    "from tqdm import tqdm\n",
    "import os\n",
    "\n",
    "# könnte man multithreaden, muss aber nur einmal laufen\n",
    "# requested einfach einmal jede URL und speichert das Ergebnis als ZIP\n",
    "# Name ist aus Land-State-City zusammengesetzt\n",
    "\n",
    "print(\"temporary directory for all raw downloaded data created (This can be deleted after everything is done)\")\n",
    "os.mkdir(\"temporary_zips\")\n",
    "print(\"starting download, will take around 2h\")\n",
    "for row in tqdm(cleaned_list):\n",
    "\n",
    "    url = row[0]\n",
    "    filename = row[1] + \" \" + row[2] +\" \" + row[3] + \".zip\" # ex: US_Alabama_Birmingham\n",
    "    filename = filename.replace(\" \", \"_\") # replace whitespaces\n",
    "    try:\n",
    "        response = r.get(url, timeout=5) # get file\n",
    "        \n",
    "        open(\"temporary_zips/\" + filename, \"wb\").write(response.content) # save zip\n",
    "    except Exception as e:\n",
    "        print(e)"
   ]
  },
  {
   "cell_type": "code",
   "execution_count": 21,
   "metadata": {},
   "outputs": [
    {
     "name": "stderr",
     "output_type": "stream",
     "text": [
      "100%|██████████| 2/2 [00:00<00:00, 76.92it/s]"
     ]
    },
    {
     "name": "stdout",
     "output_type": "stream",
     "text": [
      "data/US_Maine_Casco_Bay\n",
      "data/US_New_York_Canton\n"
     ]
    },
    {
     "name": "stderr",
     "output_type": "stream",
     "text": [
      "\n"
     ]
    }
   ],
   "source": [
    "import glob\n",
    "import zipfile\n",
    "from tqdm import tqdm\n",
    "import os\n",
    "\n",
    "# get all zip files in directory\n",
    "all_files = glob.glob(\"temporary_zips/*\")\n",
    "\n",
    "\n",
    "if not os.path.isdir(\"data\"): os.mkdir(\"data\")\n",
    "\n",
    "# unzip every file and save it\n",
    "for file in tqdm(all_files):\n",
    "    \n",
    "\n",
    "# some files are not zip files\n",
    "    try:    \n",
    "        with zipfile.ZipFile(file, 'r') as zip_ref:\n",
    "\n",
    "            # filename if the zip\n",
    "            filename = os.path.basename(file)\n",
    "            filename = filename[:-4]\n",
    "\n",
    "            pathname = \"data/\" + filename\n",
    "\n",
    "            print(pathname)\n",
    "            os.mkdir(pathname) # create first dir level\n",
    "            os.mkdir(pathname + \"/gtfs\") # create second one\n",
    "            zip_ref.extractall(pathname + \"/gtfs\") # extract\n",
    "            \n",
    "    except Exception as e:\n",
    "        print(e)"
   ]
  },
  {
   "cell_type": "code",
   "execution_count": null,
   "metadata": {},
   "outputs": [],
   "source": []
  }
 ],
 "metadata": {
  "kernelspec": {
   "display_name": "Python 3.9.12 ('venv': venv)",
   "language": "python",
   "name": "python3"
  },
  "language_info": {
   "codemirror_mode": {
    "name": "ipython",
    "version": 3
   },
   "file_extension": ".py",
   "mimetype": "text/x-python",
   "name": "python",
   "nbconvert_exporter": "python",
   "pygments_lexer": "ipython3",
   "version": "3.9.12"
  },
  "orig_nbformat": 4,
  "vscode": {
   "interpreter": {
    "hash": "56db51791f5af84c2c46b29c05e486f714d52add8b6bfdb4d473ae47122d1c76"
   }
  }
 },
 "nbformat": 4,
 "nbformat_minor": 2
}
