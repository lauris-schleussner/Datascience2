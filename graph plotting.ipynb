{
 "cells": [
  {
   "cell_type": "code",
   "execution_count": 1,
   "metadata": {},
   "outputs": [
    {
     "name": "stdout",
     "output_type": "stream",
     "text": [
      "Requirement already satisfied: scikit-learn in e:\\tsa\\datascience2\\venv\\lib\\site-packages (1.2.0)\n",
      "Requirement already satisfied: scipy>=1.3.2 in e:\\tsa\\datascience2\\venv\\lib\\site-packages (from scikit-learn) (1.9.3)\n",
      "Requirement already satisfied: joblib>=1.1.1 in e:\\tsa\\datascience2\\venv\\lib\\site-packages (from scikit-learn) (1.2.0)\n",
      "Requirement already satisfied: numpy>=1.17.3 in e:\\tsa\\datascience2\\venv\\lib\\site-packages (from scikit-learn) (1.23.3)\n",
      "Requirement already satisfied: threadpoolctl>=2.0.0 in e:\\tsa\\datascience2\\venv\\lib\\site-packages (from scikit-learn) (3.1.0)\n",
      "Note: you may need to restart the kernel to use updated packages.\n"
     ]
    },
    {
     "name": "stderr",
     "output_type": "stream",
     "text": [
      "WARNING: You are using pip version 22.0.4; however, version 23.0 is available.\n",
      "You should consider upgrading via the 'e:\\TSA\\Datascience2\\venv\\Scripts\\python.exe -m pip install --upgrade pip' command.\n"
     ]
    }
   ],
   "source": [
    "%pip install scikit-learn"
   ]
  },
  {
   "cell_type": "code",
   "execution_count": 2,
   "metadata": {},
   "outputs": [],
   "source": [
    "\n",
    "from tracemalloc import start\n",
    "import csv\n",
    "from collections import defaultdict\n",
    "from utils import load_stop_times_df\n",
    "from tqdm import tqdm\n",
    "import networkx as n\n",
    "import json\n",
    "import pandas as pd\n",
    "from utils import load_stops\n",
    "import matplotlib.pyplot as plt\n",
    "from mpl_toolkits.mplot3d import Axes3D\n",
    "import numpy as np\n",
    "from scipy.ndimage import gaussian_filter\n",
    "import math as m\n",
    "import matplotlib as mpl\n",
    "from matplotlib import cm\n",
    "from sklearn.preprocessing import minmax_scale\n",
    "from matplotlib.backends.backend_agg import FigureCanvasAgg\n",
    "from matplotlib.figure import Figure\n",
    "\n"
   ]
  },
  {
   "cell_type": "code",
   "execution_count": 3,
   "metadata": {},
   "outputs": [],
   "source": [
    "# load stops\n",
    "df = load_stop_times_df(\"US_Florida_Pinellas\")\n",
    "\n",
    "# convert into timeformat\n",
    "df[\"arrival_time\"] = pd.to_datetime(df.arrival_time, errors = \"coerce\", format = \"%H:%M:%S\")\n",
    "df[\"departure_time\"] = pd.to_datetime(df.departure_time, errors = \"coerce\", format = \"%H:%M:%S\")\n",
    "\n",
    "# shift some rows around so comparing a row with the one after it becomes easier\n",
    "df[\"shift_up\"] = df[\"trip_id\"].shift(-1)\n",
    "df[\"shifted_up_stop_id\"] = df[\"stop_id\"].shift(-1)\n",
    "df[\"shifted_up_departure_time\"] = df[\"departure_time\"].shift(-1)\n",
    "\n",
    "# set the column \"neighbour\" to NaN incase the line after has a new trip_id eq. is not a neighbour of the \n",
    "df.loc[df[\"trip_id\"] == df[\"shift_up\"], \"neighbour\"] = df[\"shifted_up_stop_id\"]\n",
    "\n",
    "# calculate trip time as timedelta, ignore any rows that have been flagged as \"NaN\" earlier\n",
    "df.loc[df[\"neighbour\"].isnull() == False, \"timedelta\"] = df[\"shifted_up_departure_time\"] - df[\"arrival_time\"]\n",
    "\n",
    "g = n.Graph()\n",
    "\n",
    "neighbour_list = df[\"neighbour\"].tolist()\n",
    "stop_id_list = df[\"stop_id\"].tolist()\n",
    "timedelta_list = df[\"timedelta\"].tolist()\n",
    "\n",
    "\n",
    "for neighbour, stop_id_list, timedelta in zip(neighbour_list, stop_id_list, timedelta_list):\n",
    "\n",
    "    # check for \"NaT\" type, also convert \"timedelta\" type to seconds\n",
    "    if type(timedelta) != pd._libs.tslibs.nattype.NaTType:\n",
    "        g.add_edge(int(stop_id_list), int(neighbour), weight = int(timedelta.total_seconds()), n_id = int(stop_id_list))\n",
    "\n",
    "\n"
   ]
  },
  {
   "cell_type": "code",
   "execution_count": 4,
   "metadata": {},
   "outputs": [
    {
     "name": "stderr",
     "output_type": "stream",
     "text": [
      "C:\\Users\\Lauris\\AppData\\Local\\Temp\\ipykernel_20032\\1611261811.py:13: SettingWithCopyWarning: \n",
      "A value is trying to be set on a copy of a slice from a DataFrame.\n",
      "Try using .loc[row_indexer,col_indexer] = value instead\n",
      "\n",
      "See the caveats in the documentation: https://pandas.pydata.org/pandas-docs/stable/user_guide/indexing.html#returning-a-view-versus-a-copy\n",
      "  only_coordinates_df[[\"stop_lat\", \"stop_lon\"]] = only_coordinates_df[[\"stop_lat\", \"stop_lon\"]].astype(\"str\")\n"
     ]
    }
   ],
   "source": [
    "# load coordinates as df (stop_id, lat, lon)\n",
    "df_coordinates = load_stops(\"US_Florida_Pinellas\")\n",
    "df_coordinates.head()\n",
    "\n",
    "# join both together\n",
    "joined_df = pd.DataFrame()\n",
    "joined_df = df.join(df_coordinates.set_index('stop_id'), on='stop_id')\n",
    "\n",
    "# select only relevant cols\n",
    "only_coordinates_df = joined_df[[\"trip_id\", \"stop_lat\", \"stop_lon\"]]\n",
    "\n",
    "# convert datatypes to str, else join() in the lambda wont work\n",
    "only_coordinates_df[[\"stop_lat\", \"stop_lon\"]] = only_coordinates_df[[\"stop_lat\", \"stop_lon\"]].astype(\"str\")\n",
    "\n",
    "# group df by trip_id and list all coordinates after\n",
    "grouped_df = only_coordinates_df.groupby(\"trip_id\").agg({'stop_lat': lambda x: ' '.join(x), 'stop_lon': lambda x: ' '.join(x)})\n",
    "\n",
    "# convert to 2d list [all_lat, all_lon]\n",
    "as_list = grouped_df.values.T.tolist()\n"
   ]
  },
  {
   "cell_type": "code",
   "execution_count": 5,
   "metadata": {},
   "outputs": [
    {
     "data": {
      "image/png": "[encoded data removed]",
      "text/plain": [
       "<Figure size 640x480 with 1 Axes>"
      ]
     },
     "metadata": {},
     "output_type": "display_data"
    }
   ],
   "source": [
    "BINS = 3\n",
    "\n",
    "#  get minimum coordinates of dataframe\n",
    "minlat = df_coordinates[\"stop_lat\"].min()\n",
    "maxlat = df_coordinates[\"stop_lat\"].max()\n",
    "minlon = df_coordinates[\"stop_lon\"].min()\n",
    "maxlon = df_coordinates[\"stop_lon\"].max()\n",
    "\n",
    "# get population data at square\n",
    "pop_df = pd.read_csv(\"pop_ger.csv\", sep = \",\", names = [\"lat\",\"lon\",\"weight\"], dtype = np.float16, skiprows = 1)\n",
    "\n",
    "# select rows that are inside of the bounding box\n",
    "pop_df = pop_df[(pop_df[\"lat\"] >= minlat) & (pop_df[\"lat\"] <= maxlat)]\n",
    "pop_df = pop_df[(pop_df[\"lon\"] >= minlon) & (pop_df[\"lon\"] <= maxlon)]\n",
    "\n",
    "# convert to numpy\n",
    "lonlist = pop_df[\"lon\"].to_list()\n",
    "latlist = pop_df[\"lat\"].to_list()\n",
    "weight = pop_df[\"weight\"].to_list()\n",
    "\n",
    "\n",
    "# TODO das sieht nich richtig aus\n",
    "\n",
    "data = np.histogram2d(lonlist, latlist, weights = weight, bins=BINS)[0]\n",
    "data = gaussian_filter(data, sigma=3)\n",
    "plt.pcolormesh(data.T, cmap='inferno', shading='gouraud')\n",
    "plt.axis(\"off\")\n",
    "plt.tight_layout(pad=0)\n",
    "plt.show()\n",
    "\n"
   ]
  },
  {
   "cell_type": "code",
   "execution_count": 6,
   "metadata": {},
   "outputs": [
    {
     "data": {
      "image/png": "[encoded data removed]",
      "text/plain": [
       "<Figure size 640x480 with 1 Axes>"
      ]
     },
     "metadata": {},
     "output_type": "display_data"
    }
   ],
   "source": [
    "# convert linegraph data\n",
    "for x, y in zip(as_list[0][0:], as_list[1][0:]):\n",
    "    \n",
    "    # seperate long x bzw y string into list\n",
    "    x_list = x.split(\" \")\n",
    "    y_list = y.split(\" \")\n",
    "\n",
    "    x_list = list(map(float, x_list)) # convert to float\n",
    "    y_list = list(map(float, y_list)) # convert to float\n",
    "\n",
    "\n",
    "    plt.plot(x_list, y_list, linestyle = \"-\", c= \"#ff9400\", linewidth = \"0.2\")\n",
    "\n",
    "plt.axis(\"off\")\n",
    "plt.tight_layout(pad=0)\n",
    "plt.show()"
   ]
  }
 ],
 "metadata": {
  "kernelspec": {
   "display_name": "venv",
   "language": "python",
   "name": "python3"
  },
  "language_info": {
   "codemirror_mode": {
    "name": "ipython",
    "version": 3
   },
   "file_extension": ".py",
   "mimetype": "text/x-python",
   "name": "python",
   "nbconvert_exporter": "python",
   "pygments_lexer": "ipython3",
   "version": "3.9.12 (tags/v3.9.12:b28265d, Mar 23 2022, 23:52:46) [MSC v.1929 64 bit (AMD64)]"
  },
  "orig_nbformat": 4,
  "vscode": {
   "interpreter": {
    "hash": "56db51791f5af84c2c46b29c05e486f714d52add8b6bfdb4d473ae47122d1c76"
   }
  }
 },
 "nbformat": 4,
 "nbformat_minor": 2
}
